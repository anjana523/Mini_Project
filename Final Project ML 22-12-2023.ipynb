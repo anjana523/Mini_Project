{
 "cells": [
  {
   "cell_type": "code",
   "execution_count": 1,
   "id": "67ba2720",
   "metadata": {
    "ExecuteTime": {
     "end_time": "2023-12-24T03:28:05.932896Z",
     "start_time": "2023-12-24T03:28:04.523755Z"
    }
   },
   "outputs": [],
   "source": [
    "import pandas as pd\n",
    "import numpy as np"
   ]
  },
  {
   "cell_type": "code",
   "execution_count": 2,
   "id": "b0414974",
   "metadata": {
    "ExecuteTime": {
     "end_time": "2023-12-24T03:28:07.402337Z",
     "start_time": "2023-12-24T03:28:05.933979Z"
    }
   },
   "outputs": [],
   "source": [
    "train_data = pd.read_csv(r'D:\\ANJANA\\Imarticus Notes\\Capstone project 1\\train.csv')\n",
    "test_data = pd.read_csv(r'D:\\ANJANA\\Imarticus Notes\\Capstone project 1\\test.csv')"
   ]
  },
  {
   "cell_type": "code",
   "execution_count": 3,
   "id": "19909c3e",
   "metadata": {
    "ExecuteTime": {
     "end_time": "2023-12-24T03:28:07.433874Z",
     "start_time": "2023-12-24T03:28:07.403632Z"
    }
   },
   "outputs": [
    {
     "data": {
      "text/html": [
       "<div>\n",
       "<style scoped>\n",
       "    .dataframe tbody tr th:only-of-type {\n",
       "        vertical-align: middle;\n",
       "    }\n",
       "\n",
       "    .dataframe tbody tr th {\n",
       "        vertical-align: top;\n",
       "    }\n",
       "\n",
       "    .dataframe thead th {\n",
       "        text-align: right;\n",
       "    }\n",
       "</style>\n",
       "<table border=\"1\" class=\"dataframe\">\n",
       "  <thead>\n",
       "    <tr style=\"text-align: right;\">\n",
       "      <th></th>\n",
       "      <th>UniqueID</th>\n",
       "      <th>disbursed_amount</th>\n",
       "      <th>asset_cost</th>\n",
       "      <th>ltv</th>\n",
       "      <th>branch_id</th>\n",
       "      <th>supplier_id</th>\n",
       "      <th>manufacturer_id</th>\n",
       "      <th>Current_pincode_ID</th>\n",
       "      <th>Date.of.Birth</th>\n",
       "      <th>Employment.Type</th>\n",
       "      <th>...</th>\n",
       "      <th>SEC.SANCTIONED.AMOUNT</th>\n",
       "      <th>SEC.DISBURSED.AMOUNT</th>\n",
       "      <th>PRIMARY.INSTAL.AMT</th>\n",
       "      <th>SEC.INSTAL.AMT</th>\n",
       "      <th>NEW.ACCTS.IN.LAST.SIX.MONTHS</th>\n",
       "      <th>DELINQUENT.ACCTS.IN.LAST.SIX.MONTHS</th>\n",
       "      <th>AVERAGE.ACCT.AGE</th>\n",
       "      <th>CREDIT.HISTORY.LENGTH</th>\n",
       "      <th>NO.OF_INQUIRIES</th>\n",
       "      <th>loan_default</th>\n",
       "    </tr>\n",
       "  </thead>\n",
       "  <tbody>\n",
       "    <tr>\n",
       "      <th>0</th>\n",
       "      <td>420825</td>\n",
       "      <td>50578</td>\n",
       "      <td>58400</td>\n",
       "      <td>89.55</td>\n",
       "      <td>67</td>\n",
       "      <td>22807</td>\n",
       "      <td>45</td>\n",
       "      <td>1441</td>\n",
       "      <td>01-01-84</td>\n",
       "      <td>Salaried</td>\n",
       "      <td>...</td>\n",
       "      <td>0</td>\n",
       "      <td>0</td>\n",
       "      <td>0</td>\n",
       "      <td>0</td>\n",
       "      <td>0</td>\n",
       "      <td>0</td>\n",
       "      <td>0yrs 0mon</td>\n",
       "      <td>0yrs 0mon</td>\n",
       "      <td>0</td>\n",
       "      <td>0</td>\n",
       "    </tr>\n",
       "    <tr>\n",
       "      <th>1</th>\n",
       "      <td>537409</td>\n",
       "      <td>47145</td>\n",
       "      <td>65550</td>\n",
       "      <td>73.23</td>\n",
       "      <td>67</td>\n",
       "      <td>22807</td>\n",
       "      <td>45</td>\n",
       "      <td>1502</td>\n",
       "      <td>31-07-85</td>\n",
       "      <td>Self employed</td>\n",
       "      <td>...</td>\n",
       "      <td>0</td>\n",
       "      <td>0</td>\n",
       "      <td>1991</td>\n",
       "      <td>0</td>\n",
       "      <td>0</td>\n",
       "      <td>1</td>\n",
       "      <td>1yrs 11mon</td>\n",
       "      <td>1yrs 11mon</td>\n",
       "      <td>0</td>\n",
       "      <td>1</td>\n",
       "    </tr>\n",
       "    <tr>\n",
       "      <th>2</th>\n",
       "      <td>417566</td>\n",
       "      <td>53278</td>\n",
       "      <td>61360</td>\n",
       "      <td>89.63</td>\n",
       "      <td>67</td>\n",
       "      <td>22807</td>\n",
       "      <td>45</td>\n",
       "      <td>1497</td>\n",
       "      <td>24-08-85</td>\n",
       "      <td>Self employed</td>\n",
       "      <td>...</td>\n",
       "      <td>0</td>\n",
       "      <td>0</td>\n",
       "      <td>0</td>\n",
       "      <td>0</td>\n",
       "      <td>0</td>\n",
       "      <td>0</td>\n",
       "      <td>0yrs 0mon</td>\n",
       "      <td>0yrs 0mon</td>\n",
       "      <td>0</td>\n",
       "      <td>0</td>\n",
       "    </tr>\n",
       "    <tr>\n",
       "      <th>3</th>\n",
       "      <td>624493</td>\n",
       "      <td>57513</td>\n",
       "      <td>66113</td>\n",
       "      <td>88.48</td>\n",
       "      <td>67</td>\n",
       "      <td>22807</td>\n",
       "      <td>45</td>\n",
       "      <td>1501</td>\n",
       "      <td>30-12-93</td>\n",
       "      <td>Self employed</td>\n",
       "      <td>...</td>\n",
       "      <td>0</td>\n",
       "      <td>0</td>\n",
       "      <td>31</td>\n",
       "      <td>0</td>\n",
       "      <td>0</td>\n",
       "      <td>0</td>\n",
       "      <td>0yrs 8mon</td>\n",
       "      <td>1yrs 3mon</td>\n",
       "      <td>1</td>\n",
       "      <td>1</td>\n",
       "    </tr>\n",
       "    <tr>\n",
       "      <th>4</th>\n",
       "      <td>539055</td>\n",
       "      <td>52378</td>\n",
       "      <td>60300</td>\n",
       "      <td>88.39</td>\n",
       "      <td>67</td>\n",
       "      <td>22807</td>\n",
       "      <td>45</td>\n",
       "      <td>1495</td>\n",
       "      <td>09-12-77</td>\n",
       "      <td>Self employed</td>\n",
       "      <td>...</td>\n",
       "      <td>0</td>\n",
       "      <td>0</td>\n",
       "      <td>0</td>\n",
       "      <td>0</td>\n",
       "      <td>0</td>\n",
       "      <td>0</td>\n",
       "      <td>0yrs 0mon</td>\n",
       "      <td>0yrs 0mon</td>\n",
       "      <td>1</td>\n",
       "      <td>1</td>\n",
       "    </tr>\n",
       "  </tbody>\n",
       "</table>\n",
       "<p>5 rows × 41 columns</p>\n",
       "</div>"
      ],
      "text/plain": [
       "   UniqueID  disbursed_amount  asset_cost    ltv  branch_id  supplier_id  \\\n",
       "0    420825             50578       58400  89.55         67        22807   \n",
       "1    537409             47145       65550  73.23         67        22807   \n",
       "2    417566             53278       61360  89.63         67        22807   \n",
       "3    624493             57513       66113  88.48         67        22807   \n",
       "4    539055             52378       60300  88.39         67        22807   \n",
       "\n",
       "   manufacturer_id  Current_pincode_ID Date.of.Birth Employment.Type  ...  \\\n",
       "0               45                1441      01-01-84        Salaried  ...   \n",
       "1               45                1502      31-07-85   Self employed  ...   \n",
       "2               45                1497      24-08-85   Self employed  ...   \n",
       "3               45                1501      30-12-93   Self employed  ...   \n",
       "4               45                1495      09-12-77   Self employed  ...   \n",
       "\n",
       "  SEC.SANCTIONED.AMOUNT  SEC.DISBURSED.AMOUNT  PRIMARY.INSTAL.AMT  \\\n",
       "0                     0                     0                   0   \n",
       "1                     0                     0                1991   \n",
       "2                     0                     0                   0   \n",
       "3                     0                     0                  31   \n",
       "4                     0                     0                   0   \n",
       "\n",
       "   SEC.INSTAL.AMT  NEW.ACCTS.IN.LAST.SIX.MONTHS  \\\n",
       "0               0                             0   \n",
       "1               0                             0   \n",
       "2               0                             0   \n",
       "3               0                             0   \n",
       "4               0                             0   \n",
       "\n",
       "   DELINQUENT.ACCTS.IN.LAST.SIX.MONTHS  AVERAGE.ACCT.AGE  \\\n",
       "0                                    0         0yrs 0mon   \n",
       "1                                    1        1yrs 11mon   \n",
       "2                                    0         0yrs 0mon   \n",
       "3                                    0         0yrs 8mon   \n",
       "4                                    0         0yrs 0mon   \n",
       "\n",
       "   CREDIT.HISTORY.LENGTH  NO.OF_INQUIRIES  loan_default  \n",
       "0              0yrs 0mon                0             0  \n",
       "1             1yrs 11mon                0             1  \n",
       "2              0yrs 0mon                0             0  \n",
       "3              1yrs 3mon                1             1  \n",
       "4              0yrs 0mon                1             1  \n",
       "\n",
       "[5 rows x 41 columns]"
      ]
     },
     "execution_count": 3,
     "metadata": {},
     "output_type": "execute_result"
    }
   ],
   "source": [
    "train_data.head()"
   ]
  },
  {
   "cell_type": "code",
   "execution_count": 4,
   "id": "0b91cddc",
   "metadata": {
    "ExecuteTime": {
     "end_time": "2023-12-24T03:28:07.455302Z",
     "start_time": "2023-12-24T03:28:07.436941Z"
    }
   },
   "outputs": [
    {
     "data": {
      "text/html": [
       "<div>\n",
       "<style scoped>\n",
       "    .dataframe tbody tr th:only-of-type {\n",
       "        vertical-align: middle;\n",
       "    }\n",
       "\n",
       "    .dataframe tbody tr th {\n",
       "        vertical-align: top;\n",
       "    }\n",
       "\n",
       "    .dataframe thead th {\n",
       "        text-align: right;\n",
       "    }\n",
       "</style>\n",
       "<table border=\"1\" class=\"dataframe\">\n",
       "  <thead>\n",
       "    <tr style=\"text-align: right;\">\n",
       "      <th></th>\n",
       "      <th>UniqueID</th>\n",
       "      <th>disbursed_amount</th>\n",
       "      <th>asset_cost</th>\n",
       "      <th>ltv</th>\n",
       "      <th>branch_id</th>\n",
       "      <th>supplier_id</th>\n",
       "      <th>manufacturer_id</th>\n",
       "      <th>Current_pincode_ID</th>\n",
       "      <th>Date.of.Birth</th>\n",
       "      <th>Employment.Type</th>\n",
       "      <th>...</th>\n",
       "      <th>SEC.CURRENT.BALANCE</th>\n",
       "      <th>SEC.SANCTIONED.AMOUNT</th>\n",
       "      <th>SEC.DISBURSED.AMOUNT</th>\n",
       "      <th>PRIMARY.INSTAL.AMT</th>\n",
       "      <th>SEC.INSTAL.AMT</th>\n",
       "      <th>NEW.ACCTS.IN.LAST.SIX.MONTHS</th>\n",
       "      <th>DELINQUENT.ACCTS.IN.LAST.SIX.MONTHS</th>\n",
       "      <th>AVERAGE.ACCT.AGE</th>\n",
       "      <th>CREDIT.HISTORY.LENGTH</th>\n",
       "      <th>NO.OF_INQUIRIES</th>\n",
       "    </tr>\n",
       "  </thead>\n",
       "  <tbody>\n",
       "    <tr>\n",
       "      <th>0</th>\n",
       "      <td>655269</td>\n",
       "      <td>53478</td>\n",
       "      <td>63558</td>\n",
       "      <td>86.54</td>\n",
       "      <td>67</td>\n",
       "      <td>22807</td>\n",
       "      <td>45</td>\n",
       "      <td>1497</td>\n",
       "      <td>01-01-74</td>\n",
       "      <td>Salaried</td>\n",
       "      <td>...</td>\n",
       "      <td>0</td>\n",
       "      <td>0</td>\n",
       "      <td>0</td>\n",
       "      <td>0</td>\n",
       "      <td>0</td>\n",
       "      <td>0</td>\n",
       "      <td>0</td>\n",
       "      <td>0yrs 0mon</td>\n",
       "      <td>0yrs 0mon</td>\n",
       "      <td>0</td>\n",
       "    </tr>\n",
       "    <tr>\n",
       "      <th>1</th>\n",
       "      <td>723482</td>\n",
       "      <td>55513</td>\n",
       "      <td>63163</td>\n",
       "      <td>89.45</td>\n",
       "      <td>67</td>\n",
       "      <td>22807</td>\n",
       "      <td>45</td>\n",
       "      <td>1497</td>\n",
       "      <td>20-05-85</td>\n",
       "      <td>Self employed</td>\n",
       "      <td>...</td>\n",
       "      <td>0</td>\n",
       "      <td>0</td>\n",
       "      <td>0</td>\n",
       "      <td>5605</td>\n",
       "      <td>0</td>\n",
       "      <td>1</td>\n",
       "      <td>0</td>\n",
       "      <td>0yrs 8mon</td>\n",
       "      <td>1yrs 0mon</td>\n",
       "      <td>1</td>\n",
       "    </tr>\n",
       "    <tr>\n",
       "      <th>2</th>\n",
       "      <td>758529</td>\n",
       "      <td>65282</td>\n",
       "      <td>84320</td>\n",
       "      <td>79.93</td>\n",
       "      <td>78</td>\n",
       "      <td>23135</td>\n",
       "      <td>86</td>\n",
       "      <td>2071</td>\n",
       "      <td>14-10-95</td>\n",
       "      <td>Salaried</td>\n",
       "      <td>...</td>\n",
       "      <td>0</td>\n",
       "      <td>0</td>\n",
       "      <td>0</td>\n",
       "      <td>0</td>\n",
       "      <td>0</td>\n",
       "      <td>0</td>\n",
       "      <td>0</td>\n",
       "      <td>0yrs 0mon</td>\n",
       "      <td>0yrs 0mon</td>\n",
       "      <td>0</td>\n",
       "    </tr>\n",
       "    <tr>\n",
       "      <th>3</th>\n",
       "      <td>763449</td>\n",
       "      <td>46905</td>\n",
       "      <td>63896</td>\n",
       "      <td>76.58</td>\n",
       "      <td>78</td>\n",
       "      <td>17014</td>\n",
       "      <td>45</td>\n",
       "      <td>2070</td>\n",
       "      <td>01-06-73</td>\n",
       "      <td>Self employed</td>\n",
       "      <td>...</td>\n",
       "      <td>0</td>\n",
       "      <td>0</td>\n",
       "      <td>0</td>\n",
       "      <td>0</td>\n",
       "      <td>0</td>\n",
       "      <td>0</td>\n",
       "      <td>0</td>\n",
       "      <td>2yrs 5mon</td>\n",
       "      <td>2yrs 5mon</td>\n",
       "      <td>0</td>\n",
       "    </tr>\n",
       "    <tr>\n",
       "      <th>4</th>\n",
       "      <td>708663</td>\n",
       "      <td>51428</td>\n",
       "      <td>63896</td>\n",
       "      <td>86.08</td>\n",
       "      <td>78</td>\n",
       "      <td>17014</td>\n",
       "      <td>45</td>\n",
       "      <td>2069</td>\n",
       "      <td>01-06-72</td>\n",
       "      <td>Salaried</td>\n",
       "      <td>...</td>\n",
       "      <td>0</td>\n",
       "      <td>0</td>\n",
       "      <td>0</td>\n",
       "      <td>0</td>\n",
       "      <td>0</td>\n",
       "      <td>0</td>\n",
       "      <td>0</td>\n",
       "      <td>0yrs 0mon</td>\n",
       "      <td>0yrs 0mon</td>\n",
       "      <td>0</td>\n",
       "    </tr>\n",
       "  </tbody>\n",
       "</table>\n",
       "<p>5 rows × 40 columns</p>\n",
       "</div>"
      ],
      "text/plain": [
       "   UniqueID  disbursed_amount  asset_cost    ltv  branch_id  supplier_id  \\\n",
       "0    655269             53478       63558  86.54         67        22807   \n",
       "1    723482             55513       63163  89.45         67        22807   \n",
       "2    758529             65282       84320  79.93         78        23135   \n",
       "3    763449             46905       63896  76.58         78        17014   \n",
       "4    708663             51428       63896  86.08         78        17014   \n",
       "\n",
       "   manufacturer_id  Current_pincode_ID Date.of.Birth Employment.Type  ...  \\\n",
       "0               45                1497      01-01-74        Salaried  ...   \n",
       "1               45                1497      20-05-85   Self employed  ...   \n",
       "2               86                2071      14-10-95        Salaried  ...   \n",
       "3               45                2070      01-06-73   Self employed  ...   \n",
       "4               45                2069      01-06-72        Salaried  ...   \n",
       "\n",
       "  SEC.CURRENT.BALANCE  SEC.SANCTIONED.AMOUNT  SEC.DISBURSED.AMOUNT  \\\n",
       "0                   0                      0                     0   \n",
       "1                   0                      0                     0   \n",
       "2                   0                      0                     0   \n",
       "3                   0                      0                     0   \n",
       "4                   0                      0                     0   \n",
       "\n",
       "   PRIMARY.INSTAL.AMT  SEC.INSTAL.AMT  NEW.ACCTS.IN.LAST.SIX.MONTHS  \\\n",
       "0                   0               0                             0   \n",
       "1                5605               0                             1   \n",
       "2                   0               0                             0   \n",
       "3                   0               0                             0   \n",
       "4                   0               0                             0   \n",
       "\n",
       "   DELINQUENT.ACCTS.IN.LAST.SIX.MONTHS  AVERAGE.ACCT.AGE  \\\n",
       "0                                    0         0yrs 0mon   \n",
       "1                                    0         0yrs 8mon   \n",
       "2                                    0         0yrs 0mon   \n",
       "3                                    0         2yrs 5mon   \n",
       "4                                    0         0yrs 0mon   \n",
       "\n",
       "   CREDIT.HISTORY.LENGTH  NO.OF_INQUIRIES  \n",
       "0              0yrs 0mon                0  \n",
       "1              1yrs 0mon                1  \n",
       "2              0yrs 0mon                0  \n",
       "3              2yrs 5mon                0  \n",
       "4              0yrs 0mon                0  \n",
       "\n",
       "[5 rows x 40 columns]"
      ]
     },
     "execution_count": 4,
     "metadata": {},
     "output_type": "execute_result"
    }
   ],
   "source": [
    "test_data.head()"
   ]
  },
  {
   "cell_type": "code",
   "execution_count": 5,
   "id": "6b3dc4b5",
   "metadata": {
    "ExecuteTime": {
     "end_time": "2023-12-24T03:28:07.461172Z",
     "start_time": "2023-12-24T03:28:07.456773Z"
    }
   },
   "outputs": [],
   "source": [
    "train_data.columns = [i.lower().replace('.','_') for i in train_data.columns]\n",
    "test_data.columns = [i.lower().replace('.','_') for i in test_data.columns]"
   ]
  },
  {
   "cell_type": "code",
   "execution_count": 6,
   "id": "b2f9addc",
   "metadata": {
    "ExecuteTime": {
     "end_time": "2023-12-24T03:28:07.479609Z",
     "start_time": "2023-12-24T03:28:07.462276Z"
    },
    "scrolled": true
   },
   "outputs": [
    {
     "data": {
      "text/html": [
       "<div>\n",
       "<style scoped>\n",
       "    .dataframe tbody tr th:only-of-type {\n",
       "        vertical-align: middle;\n",
       "    }\n",
       "\n",
       "    .dataframe tbody tr th {\n",
       "        vertical-align: top;\n",
       "    }\n",
       "\n",
       "    .dataframe thead th {\n",
       "        text-align: right;\n",
       "    }\n",
       "</style>\n",
       "<table border=\"1\" class=\"dataframe\">\n",
       "  <thead>\n",
       "    <tr style=\"text-align: right;\">\n",
       "      <th></th>\n",
       "      <th>uniqueid</th>\n",
       "      <th>disbursed_amount</th>\n",
       "      <th>asset_cost</th>\n",
       "      <th>ltv</th>\n",
       "      <th>branch_id</th>\n",
       "      <th>supplier_id</th>\n",
       "      <th>manufacturer_id</th>\n",
       "      <th>current_pincode_id</th>\n",
       "      <th>date_of_birth</th>\n",
       "      <th>employment_type</th>\n",
       "      <th>...</th>\n",
       "      <th>sec_sanctioned_amount</th>\n",
       "      <th>sec_disbursed_amount</th>\n",
       "      <th>primary_instal_amt</th>\n",
       "      <th>sec_instal_amt</th>\n",
       "      <th>new_accts_in_last_six_months</th>\n",
       "      <th>delinquent_accts_in_last_six_months</th>\n",
       "      <th>average_acct_age</th>\n",
       "      <th>credit_history_length</th>\n",
       "      <th>no_of_inquiries</th>\n",
       "      <th>loan_default</th>\n",
       "    </tr>\n",
       "  </thead>\n",
       "  <tbody>\n",
       "    <tr>\n",
       "      <th>0</th>\n",
       "      <td>420825</td>\n",
       "      <td>50578</td>\n",
       "      <td>58400</td>\n",
       "      <td>89.55</td>\n",
       "      <td>67</td>\n",
       "      <td>22807</td>\n",
       "      <td>45</td>\n",
       "      <td>1441</td>\n",
       "      <td>01-01-84</td>\n",
       "      <td>Salaried</td>\n",
       "      <td>...</td>\n",
       "      <td>0</td>\n",
       "      <td>0</td>\n",
       "      <td>0</td>\n",
       "      <td>0</td>\n",
       "      <td>0</td>\n",
       "      <td>0</td>\n",
       "      <td>0yrs 0mon</td>\n",
       "      <td>0yrs 0mon</td>\n",
       "      <td>0</td>\n",
       "      <td>0</td>\n",
       "    </tr>\n",
       "    <tr>\n",
       "      <th>1</th>\n",
       "      <td>537409</td>\n",
       "      <td>47145</td>\n",
       "      <td>65550</td>\n",
       "      <td>73.23</td>\n",
       "      <td>67</td>\n",
       "      <td>22807</td>\n",
       "      <td>45</td>\n",
       "      <td>1502</td>\n",
       "      <td>31-07-85</td>\n",
       "      <td>Self employed</td>\n",
       "      <td>...</td>\n",
       "      <td>0</td>\n",
       "      <td>0</td>\n",
       "      <td>1991</td>\n",
       "      <td>0</td>\n",
       "      <td>0</td>\n",
       "      <td>1</td>\n",
       "      <td>1yrs 11mon</td>\n",
       "      <td>1yrs 11mon</td>\n",
       "      <td>0</td>\n",
       "      <td>1</td>\n",
       "    </tr>\n",
       "    <tr>\n",
       "      <th>2</th>\n",
       "      <td>417566</td>\n",
       "      <td>53278</td>\n",
       "      <td>61360</td>\n",
       "      <td>89.63</td>\n",
       "      <td>67</td>\n",
       "      <td>22807</td>\n",
       "      <td>45</td>\n",
       "      <td>1497</td>\n",
       "      <td>24-08-85</td>\n",
       "      <td>Self employed</td>\n",
       "      <td>...</td>\n",
       "      <td>0</td>\n",
       "      <td>0</td>\n",
       "      <td>0</td>\n",
       "      <td>0</td>\n",
       "      <td>0</td>\n",
       "      <td>0</td>\n",
       "      <td>0yrs 0mon</td>\n",
       "      <td>0yrs 0mon</td>\n",
       "      <td>0</td>\n",
       "      <td>0</td>\n",
       "    </tr>\n",
       "    <tr>\n",
       "      <th>3</th>\n",
       "      <td>624493</td>\n",
       "      <td>57513</td>\n",
       "      <td>66113</td>\n",
       "      <td>88.48</td>\n",
       "      <td>67</td>\n",
       "      <td>22807</td>\n",
       "      <td>45</td>\n",
       "      <td>1501</td>\n",
       "      <td>30-12-93</td>\n",
       "      <td>Self employed</td>\n",
       "      <td>...</td>\n",
       "      <td>0</td>\n",
       "      <td>0</td>\n",
       "      <td>31</td>\n",
       "      <td>0</td>\n",
       "      <td>0</td>\n",
       "      <td>0</td>\n",
       "      <td>0yrs 8mon</td>\n",
       "      <td>1yrs 3mon</td>\n",
       "      <td>1</td>\n",
       "      <td>1</td>\n",
       "    </tr>\n",
       "    <tr>\n",
       "      <th>4</th>\n",
       "      <td>539055</td>\n",
       "      <td>52378</td>\n",
       "      <td>60300</td>\n",
       "      <td>88.39</td>\n",
       "      <td>67</td>\n",
       "      <td>22807</td>\n",
       "      <td>45</td>\n",
       "      <td>1495</td>\n",
       "      <td>09-12-77</td>\n",
       "      <td>Self employed</td>\n",
       "      <td>...</td>\n",
       "      <td>0</td>\n",
       "      <td>0</td>\n",
       "      <td>0</td>\n",
       "      <td>0</td>\n",
       "      <td>0</td>\n",
       "      <td>0</td>\n",
       "      <td>0yrs 0mon</td>\n",
       "      <td>0yrs 0mon</td>\n",
       "      <td>1</td>\n",
       "      <td>1</td>\n",
       "    </tr>\n",
       "  </tbody>\n",
       "</table>\n",
       "<p>5 rows × 41 columns</p>\n",
       "</div>"
      ],
      "text/plain": [
       "   uniqueid  disbursed_amount  asset_cost    ltv  branch_id  supplier_id  \\\n",
       "0    420825             50578       58400  89.55         67        22807   \n",
       "1    537409             47145       65550  73.23         67        22807   \n",
       "2    417566             53278       61360  89.63         67        22807   \n",
       "3    624493             57513       66113  88.48         67        22807   \n",
       "4    539055             52378       60300  88.39         67        22807   \n",
       "\n",
       "   manufacturer_id  current_pincode_id date_of_birth employment_type  ...  \\\n",
       "0               45                1441      01-01-84        Salaried  ...   \n",
       "1               45                1502      31-07-85   Self employed  ...   \n",
       "2               45                1497      24-08-85   Self employed  ...   \n",
       "3               45                1501      30-12-93   Self employed  ...   \n",
       "4               45                1495      09-12-77   Self employed  ...   \n",
       "\n",
       "  sec_sanctioned_amount  sec_disbursed_amount  primary_instal_amt  \\\n",
       "0                     0                     0                   0   \n",
       "1                     0                     0                1991   \n",
       "2                     0                     0                   0   \n",
       "3                     0                     0                  31   \n",
       "4                     0                     0                   0   \n",
       "\n",
       "   sec_instal_amt  new_accts_in_last_six_months  \\\n",
       "0               0                             0   \n",
       "1               0                             0   \n",
       "2               0                             0   \n",
       "3               0                             0   \n",
       "4               0                             0   \n",
       "\n",
       "   delinquent_accts_in_last_six_months  average_acct_age  \\\n",
       "0                                    0         0yrs 0mon   \n",
       "1                                    1        1yrs 11mon   \n",
       "2                                    0         0yrs 0mon   \n",
       "3                                    0         0yrs 8mon   \n",
       "4                                    0         0yrs 0mon   \n",
       "\n",
       "   credit_history_length  no_of_inquiries  loan_default  \n",
       "0              0yrs 0mon                0             0  \n",
       "1             1yrs 11mon                0             1  \n",
       "2              0yrs 0mon                0             0  \n",
       "3              1yrs 3mon                1             1  \n",
       "4              0yrs 0mon                1             1  \n",
       "\n",
       "[5 rows x 41 columns]"
      ]
     },
     "execution_count": 6,
     "metadata": {},
     "output_type": "execute_result"
    }
   ],
   "source": [
    "train_data.head()"
   ]
  },
  {
   "cell_type": "code",
   "execution_count": 7,
   "id": "93b69ccc",
   "metadata": {
    "ExecuteTime": {
     "end_time": "2023-12-24T03:28:07.505383Z",
     "start_time": "2023-12-24T03:28:07.481966Z"
    }
   },
   "outputs": [
    {
     "data": {
      "text/html": [
       "<div>\n",
       "<style scoped>\n",
       "    .dataframe tbody tr th:only-of-type {\n",
       "        vertical-align: middle;\n",
       "    }\n",
       "\n",
       "    .dataframe tbody tr th {\n",
       "        vertical-align: top;\n",
       "    }\n",
       "\n",
       "    .dataframe thead th {\n",
       "        text-align: right;\n",
       "    }\n",
       "</style>\n",
       "<table border=\"1\" class=\"dataframe\">\n",
       "  <thead>\n",
       "    <tr style=\"text-align: right;\">\n",
       "      <th></th>\n",
       "      <th>uniqueid</th>\n",
       "      <th>disbursed_amount</th>\n",
       "      <th>asset_cost</th>\n",
       "      <th>ltv</th>\n",
       "      <th>branch_id</th>\n",
       "      <th>supplier_id</th>\n",
       "      <th>manufacturer_id</th>\n",
       "      <th>current_pincode_id</th>\n",
       "      <th>date_of_birth</th>\n",
       "      <th>employment_type</th>\n",
       "      <th>...</th>\n",
       "      <th>sec_current_balance</th>\n",
       "      <th>sec_sanctioned_amount</th>\n",
       "      <th>sec_disbursed_amount</th>\n",
       "      <th>primary_instal_amt</th>\n",
       "      <th>sec_instal_amt</th>\n",
       "      <th>new_accts_in_last_six_months</th>\n",
       "      <th>delinquent_accts_in_last_six_months</th>\n",
       "      <th>average_acct_age</th>\n",
       "      <th>credit_history_length</th>\n",
       "      <th>no_of_inquiries</th>\n",
       "    </tr>\n",
       "  </thead>\n",
       "  <tbody>\n",
       "    <tr>\n",
       "      <th>0</th>\n",
       "      <td>655269</td>\n",
       "      <td>53478</td>\n",
       "      <td>63558</td>\n",
       "      <td>86.54</td>\n",
       "      <td>67</td>\n",
       "      <td>22807</td>\n",
       "      <td>45</td>\n",
       "      <td>1497</td>\n",
       "      <td>01-01-74</td>\n",
       "      <td>Salaried</td>\n",
       "      <td>...</td>\n",
       "      <td>0</td>\n",
       "      <td>0</td>\n",
       "      <td>0</td>\n",
       "      <td>0</td>\n",
       "      <td>0</td>\n",
       "      <td>0</td>\n",
       "      <td>0</td>\n",
       "      <td>0yrs 0mon</td>\n",
       "      <td>0yrs 0mon</td>\n",
       "      <td>0</td>\n",
       "    </tr>\n",
       "    <tr>\n",
       "      <th>1</th>\n",
       "      <td>723482</td>\n",
       "      <td>55513</td>\n",
       "      <td>63163</td>\n",
       "      <td>89.45</td>\n",
       "      <td>67</td>\n",
       "      <td>22807</td>\n",
       "      <td>45</td>\n",
       "      <td>1497</td>\n",
       "      <td>20-05-85</td>\n",
       "      <td>Self employed</td>\n",
       "      <td>...</td>\n",
       "      <td>0</td>\n",
       "      <td>0</td>\n",
       "      <td>0</td>\n",
       "      <td>5605</td>\n",
       "      <td>0</td>\n",
       "      <td>1</td>\n",
       "      <td>0</td>\n",
       "      <td>0yrs 8mon</td>\n",
       "      <td>1yrs 0mon</td>\n",
       "      <td>1</td>\n",
       "    </tr>\n",
       "    <tr>\n",
       "      <th>2</th>\n",
       "      <td>758529</td>\n",
       "      <td>65282</td>\n",
       "      <td>84320</td>\n",
       "      <td>79.93</td>\n",
       "      <td>78</td>\n",
       "      <td>23135</td>\n",
       "      <td>86</td>\n",
       "      <td>2071</td>\n",
       "      <td>14-10-95</td>\n",
       "      <td>Salaried</td>\n",
       "      <td>...</td>\n",
       "      <td>0</td>\n",
       "      <td>0</td>\n",
       "      <td>0</td>\n",
       "      <td>0</td>\n",
       "      <td>0</td>\n",
       "      <td>0</td>\n",
       "      <td>0</td>\n",
       "      <td>0yrs 0mon</td>\n",
       "      <td>0yrs 0mon</td>\n",
       "      <td>0</td>\n",
       "    </tr>\n",
       "    <tr>\n",
       "      <th>3</th>\n",
       "      <td>763449</td>\n",
       "      <td>46905</td>\n",
       "      <td>63896</td>\n",
       "      <td>76.58</td>\n",
       "      <td>78</td>\n",
       "      <td>17014</td>\n",
       "      <td>45</td>\n",
       "      <td>2070</td>\n",
       "      <td>01-06-73</td>\n",
       "      <td>Self employed</td>\n",
       "      <td>...</td>\n",
       "      <td>0</td>\n",
       "      <td>0</td>\n",
       "      <td>0</td>\n",
       "      <td>0</td>\n",
       "      <td>0</td>\n",
       "      <td>0</td>\n",
       "      <td>0</td>\n",
       "      <td>2yrs 5mon</td>\n",
       "      <td>2yrs 5mon</td>\n",
       "      <td>0</td>\n",
       "    </tr>\n",
       "    <tr>\n",
       "      <th>4</th>\n",
       "      <td>708663</td>\n",
       "      <td>51428</td>\n",
       "      <td>63896</td>\n",
       "      <td>86.08</td>\n",
       "      <td>78</td>\n",
       "      <td>17014</td>\n",
       "      <td>45</td>\n",
       "      <td>2069</td>\n",
       "      <td>01-06-72</td>\n",
       "      <td>Salaried</td>\n",
       "      <td>...</td>\n",
       "      <td>0</td>\n",
       "      <td>0</td>\n",
       "      <td>0</td>\n",
       "      <td>0</td>\n",
       "      <td>0</td>\n",
       "      <td>0</td>\n",
       "      <td>0</td>\n",
       "      <td>0yrs 0mon</td>\n",
       "      <td>0yrs 0mon</td>\n",
       "      <td>0</td>\n",
       "    </tr>\n",
       "  </tbody>\n",
       "</table>\n",
       "<p>5 rows × 40 columns</p>\n",
       "</div>"
      ],
      "text/plain": [
       "   uniqueid  disbursed_amount  asset_cost    ltv  branch_id  supplier_id  \\\n",
       "0    655269             53478       63558  86.54         67        22807   \n",
       "1    723482             55513       63163  89.45         67        22807   \n",
       "2    758529             65282       84320  79.93         78        23135   \n",
       "3    763449             46905       63896  76.58         78        17014   \n",
       "4    708663             51428       63896  86.08         78        17014   \n",
       "\n",
       "   manufacturer_id  current_pincode_id date_of_birth employment_type  ...  \\\n",
       "0               45                1497      01-01-74        Salaried  ...   \n",
       "1               45                1497      20-05-85   Self employed  ...   \n",
       "2               86                2071      14-10-95        Salaried  ...   \n",
       "3               45                2070      01-06-73   Self employed  ...   \n",
       "4               45                2069      01-06-72        Salaried  ...   \n",
       "\n",
       "  sec_current_balance  sec_sanctioned_amount  sec_disbursed_amount  \\\n",
       "0                   0                      0                     0   \n",
       "1                   0                      0                     0   \n",
       "2                   0                      0                     0   \n",
       "3                   0                      0                     0   \n",
       "4                   0                      0                     0   \n",
       "\n",
       "   primary_instal_amt  sec_instal_amt  new_accts_in_last_six_months  \\\n",
       "0                   0               0                             0   \n",
       "1                5605               0                             1   \n",
       "2                   0               0                             0   \n",
       "3                   0               0                             0   \n",
       "4                   0               0                             0   \n",
       "\n",
       "   delinquent_accts_in_last_six_months  average_acct_age  \\\n",
       "0                                    0         0yrs 0mon   \n",
       "1                                    0         0yrs 8mon   \n",
       "2                                    0         0yrs 0mon   \n",
       "3                                    0         2yrs 5mon   \n",
       "4                                    0         0yrs 0mon   \n",
       "\n",
       "   credit_history_length  no_of_inquiries  \n",
       "0              0yrs 0mon                0  \n",
       "1              1yrs 0mon                1  \n",
       "2              0yrs 0mon                0  \n",
       "3              2yrs 5mon                0  \n",
       "4              0yrs 0mon                0  \n",
       "\n",
       "[5 rows x 40 columns]"
      ]
     },
     "execution_count": 7,
     "metadata": {},
     "output_type": "execute_result"
    }
   ],
   "source": [
    "test_data.head()"
   ]
  },
  {
   "cell_type": "markdown",
   "id": "f5a97f1c",
   "metadata": {},
   "source": [
    "## No of records in train and test data"
   ]
  },
  {
   "cell_type": "code",
   "execution_count": 8,
   "id": "fb8cf6d0",
   "metadata": {
    "ExecuteTime": {
     "end_time": "2023-12-24T03:28:07.515190Z",
     "start_time": "2023-12-24T03:28:07.507700Z"
    }
   },
   "outputs": [
    {
     "name": "stdout",
     "output_type": "stream",
     "text": [
      "(233154, 41)\n",
      "(112392, 40)\n"
     ]
    }
   ],
   "source": [
    "print(train_data.shape)\n",
    "print(test_data.shape)"
   ]
  },
  {
   "cell_type": "markdown",
   "id": "464f4a39",
   "metadata": {
    "ExecuteTime": {
     "end_time": "2023-12-16T10:33:59.519549Z",
     "start_time": "2023-12-16T10:33:59.516148Z"
    }
   },
   "source": [
    "## Data Cleaning "
   ]
  },
  {
   "cell_type": "code",
   "execution_count": 9,
   "id": "21a378f3",
   "metadata": {
    "ExecuteTime": {
     "end_time": "2023-12-24T03:28:07.734509Z",
     "start_time": "2023-12-24T03:28:07.517531Z"
    }
   },
   "outputs": [
    {
     "name": "stdout",
     "output_type": "stream",
     "text": [
      "<class 'pandas.core.frame.DataFrame'>\n",
      "RangeIndex: 233154 entries, 0 to 233153\n",
      "Data columns (total 41 columns):\n",
      " #   Column                               Non-Null Count   Dtype  \n",
      "---  ------                               --------------   -----  \n",
      " 0   uniqueid                             233154 non-null  int64  \n",
      " 1   disbursed_amount                     233154 non-null  int64  \n",
      " 2   asset_cost                           233154 non-null  int64  \n",
      " 3   ltv                                  233154 non-null  float64\n",
      " 4   branch_id                            233154 non-null  int64  \n",
      " 5   supplier_id                          233154 non-null  int64  \n",
      " 6   manufacturer_id                      233154 non-null  int64  \n",
      " 7   current_pincode_id                   233154 non-null  int64  \n",
      " 8   date_of_birth                        233154 non-null  object \n",
      " 9   employment_type                      225493 non-null  object \n",
      " 10  disbursaldate                        233154 non-null  object \n",
      " 11  state_id                             233154 non-null  int64  \n",
      " 12  employee_code_id                     233154 non-null  int64  \n",
      " 13  mobileno_avl_flag                    233154 non-null  int64  \n",
      " 14  aadhar_flag                          233154 non-null  int64  \n",
      " 15  pan_flag                             233154 non-null  int64  \n",
      " 16  voterid_flag                         233154 non-null  int64  \n",
      " 17  driving_flag                         233154 non-null  int64  \n",
      " 18  passport_flag                        233154 non-null  int64  \n",
      " 19  perform_cns_score                    233154 non-null  int64  \n",
      " 20  perform_cns_score_description        233154 non-null  object \n",
      " 21  pri_no_of_accts                      233154 non-null  int64  \n",
      " 22  pri_active_accts                     233154 non-null  int64  \n",
      " 23  pri_overdue_accts                    233154 non-null  int64  \n",
      " 24  pri_current_balance                  233154 non-null  int64  \n",
      " 25  pri_sanctioned_amount                233154 non-null  int64  \n",
      " 26  pri_disbursed_amount                 233154 non-null  int64  \n",
      " 27  sec_no_of_accts                      233154 non-null  int64  \n",
      " 28  sec_active_accts                     233154 non-null  int64  \n",
      " 29  sec_overdue_accts                    233154 non-null  int64  \n",
      " 30  sec_current_balance                  233154 non-null  int64  \n",
      " 31  sec_sanctioned_amount                233154 non-null  int64  \n",
      " 32  sec_disbursed_amount                 233154 non-null  int64  \n",
      " 33  primary_instal_amt                   233154 non-null  int64  \n",
      " 34  sec_instal_amt                       233154 non-null  int64  \n",
      " 35  new_accts_in_last_six_months         233154 non-null  int64  \n",
      " 36  delinquent_accts_in_last_six_months  233154 non-null  int64  \n",
      " 37  average_acct_age                     233154 non-null  object \n",
      " 38  credit_history_length                233154 non-null  object \n",
      " 39  no_of_inquiries                      233154 non-null  int64  \n",
      " 40  loan_default                         233154 non-null  int64  \n",
      "dtypes: float64(1), int64(34), object(6)\n",
      "memory usage: 72.9+ MB\n",
      "None\n"
     ]
    }
   ],
   "source": [
    "print(train_data.info())"
   ]
  },
  {
   "cell_type": "code",
   "execution_count": 10,
   "id": "cb5ce201",
   "metadata": {
    "ExecuteTime": {
     "end_time": "2023-12-24T03:28:07.923405Z",
     "start_time": "2023-12-24T03:28:07.738166Z"
    }
   },
   "outputs": [
    {
     "name": "stdout",
     "output_type": "stream",
     "text": [
      "uniqueid                                  0\n",
      "disbursed_amount                          0\n",
      "asset_cost                                0\n",
      "ltv                                       0\n",
      "branch_id                                 0\n",
      "supplier_id                               0\n",
      "manufacturer_id                           0\n",
      "current_pincode_id                        0\n",
      "date_of_birth                             0\n",
      "employment_type                        7661\n",
      "disbursaldate                             0\n",
      "state_id                                  0\n",
      "employee_code_id                          0\n",
      "mobileno_avl_flag                         0\n",
      "aadhar_flag                               0\n",
      "pan_flag                                  0\n",
      "voterid_flag                              0\n",
      "driving_flag                              0\n",
      "passport_flag                             0\n",
      "perform_cns_score                         0\n",
      "perform_cns_score_description             0\n",
      "pri_no_of_accts                           0\n",
      "pri_active_accts                          0\n",
      "pri_overdue_accts                         0\n",
      "pri_current_balance                       0\n",
      "pri_sanctioned_amount                     0\n",
      "pri_disbursed_amount                      0\n",
      "sec_no_of_accts                           0\n",
      "sec_active_accts                          0\n",
      "sec_overdue_accts                         0\n",
      "sec_current_balance                       0\n",
      "sec_sanctioned_amount                     0\n",
      "sec_disbursed_amount                      0\n",
      "primary_instal_amt                        0\n",
      "sec_instal_amt                            0\n",
      "new_accts_in_last_six_months              0\n",
      "delinquent_accts_in_last_six_months       0\n",
      "average_acct_age                          0\n",
      "credit_history_length                     0\n",
      "no_of_inquiries                           0\n",
      "loan_default                              0\n",
      "dtype: int64\n"
     ]
    }
   ],
   "source": [
    "print(train_data.isna().sum())"
   ]
  },
  {
   "cell_type": "code",
   "execution_count": 11,
   "id": "cd26be88",
   "metadata": {
    "ExecuteTime": {
     "end_time": "2023-12-24T03:28:08.033029Z",
     "start_time": "2023-12-24T03:28:07.927662Z"
    }
   },
   "outputs": [
    {
     "name": "stdout",
     "output_type": "stream",
     "text": [
      "<class 'pandas.core.frame.DataFrame'>\n",
      "RangeIndex: 112392 entries, 0 to 112391\n",
      "Data columns (total 40 columns):\n",
      " #   Column                               Non-Null Count   Dtype  \n",
      "---  ------                               --------------   -----  \n",
      " 0   uniqueid                             112392 non-null  int64  \n",
      " 1   disbursed_amount                     112392 non-null  int64  \n",
      " 2   asset_cost                           112392 non-null  int64  \n",
      " 3   ltv                                  112392 non-null  float64\n",
      " 4   branch_id                            112392 non-null  int64  \n",
      " 5   supplier_id                          112392 non-null  int64  \n",
      " 6   manufacturer_id                      112392 non-null  int64  \n",
      " 7   current_pincode_id                   112392 non-null  int64  \n",
      " 8   date_of_birth                        112392 non-null  object \n",
      " 9   employment_type                      108949 non-null  object \n",
      " 10  disbursaldate                        112392 non-null  object \n",
      " 11  state_id                             112392 non-null  int64  \n",
      " 12  employee_code_id                     112392 non-null  int64  \n",
      " 13  mobileno_avl_flag                    112392 non-null  int64  \n",
      " 14  aadhar_flag                          112392 non-null  int64  \n",
      " 15  pan_flag                             112392 non-null  int64  \n",
      " 16  voterid_flag                         112392 non-null  int64  \n",
      " 17  driving_flag                         112392 non-null  int64  \n",
      " 18  passport_flag                        112392 non-null  int64  \n",
      " 19  perform_cns_score                    112392 non-null  int64  \n",
      " 20  perform_cns_score_description        112392 non-null  object \n",
      " 21  pri_no_of_accts                      112392 non-null  int64  \n",
      " 22  pri_active_accts                     112392 non-null  int64  \n",
      " 23  pri_overdue_accts                    112392 non-null  int64  \n",
      " 24  pri_current_balance                  112392 non-null  int64  \n",
      " 25  pri_sanctioned_amount                112392 non-null  int64  \n",
      " 26  pri_disbursed_amount                 112392 non-null  int64  \n",
      " 27  sec_no_of_accts                      112392 non-null  int64  \n",
      " 28  sec_active_accts                     112392 non-null  int64  \n",
      " 29  sec_overdue_accts                    112392 non-null  int64  \n",
      " 30  sec_current_balance                  112392 non-null  int64  \n",
      " 31  sec_sanctioned_amount                112392 non-null  int64  \n",
      " 32  sec_disbursed_amount                 112392 non-null  int64  \n",
      " 33  primary_instal_amt                   112392 non-null  int64  \n",
      " 34  sec_instal_amt                       112392 non-null  int64  \n",
      " 35  new_accts_in_last_six_months         112392 non-null  int64  \n",
      " 36  delinquent_accts_in_last_six_months  112392 non-null  int64  \n",
      " 37  average_acct_age                     112392 non-null  object \n",
      " 38  credit_history_length                112392 non-null  object \n",
      " 39  no_of_inquiries                      112392 non-null  int64  \n",
      "dtypes: float64(1), int64(33), object(6)\n",
      "memory usage: 34.3+ MB\n",
      "None\n"
     ]
    }
   ],
   "source": [
    "print(test_data.info())"
   ]
  },
  {
   "cell_type": "code",
   "execution_count": 12,
   "id": "96352d47",
   "metadata": {
    "ExecuteTime": {
     "end_time": "2023-12-24T03:28:08.126281Z",
     "start_time": "2023-12-24T03:28:08.035027Z"
    }
   },
   "outputs": [
    {
     "name": "stdout",
     "output_type": "stream",
     "text": [
      "uniqueid                                  0\n",
      "disbursed_amount                          0\n",
      "asset_cost                                0\n",
      "ltv                                       0\n",
      "branch_id                                 0\n",
      "supplier_id                               0\n",
      "manufacturer_id                           0\n",
      "current_pincode_id                        0\n",
      "date_of_birth                             0\n",
      "employment_type                        3443\n",
      "disbursaldate                             0\n",
      "state_id                                  0\n",
      "employee_code_id                          0\n",
      "mobileno_avl_flag                         0\n",
      "aadhar_flag                               0\n",
      "pan_flag                                  0\n",
      "voterid_flag                              0\n",
      "driving_flag                              0\n",
      "passport_flag                             0\n",
      "perform_cns_score                         0\n",
      "perform_cns_score_description             0\n",
      "pri_no_of_accts                           0\n",
      "pri_active_accts                          0\n",
      "pri_overdue_accts                         0\n",
      "pri_current_balance                       0\n",
      "pri_sanctioned_amount                     0\n",
      "pri_disbursed_amount                      0\n",
      "sec_no_of_accts                           0\n",
      "sec_active_accts                          0\n",
      "sec_overdue_accts                         0\n",
      "sec_current_balance                       0\n",
      "sec_sanctioned_amount                     0\n",
      "sec_disbursed_amount                      0\n",
      "primary_instal_amt                        0\n",
      "sec_instal_amt                            0\n",
      "new_accts_in_last_six_months              0\n",
      "delinquent_accts_in_last_six_months       0\n",
      "average_acct_age                          0\n",
      "credit_history_length                     0\n",
      "no_of_inquiries                           0\n",
      "dtype: int64\n"
     ]
    }
   ],
   "source": [
    "print(test_data.isna().sum())"
   ]
  },
  {
   "cell_type": "code",
   "execution_count": 13,
   "id": "41bf22b3",
   "metadata": {
    "ExecuteTime": {
     "end_time": "2023-12-24T03:28:08.144324Z",
     "start_time": "2023-12-24T03:28:08.128116Z"
    }
   },
   "outputs": [
    {
     "data": {
      "text/plain": [
       "array(['Salaried', 'Self employed', nan], dtype=object)"
      ]
     },
     "execution_count": 13,
     "metadata": {},
     "output_type": "execute_result"
    }
   ],
   "source": [
    "train_data['employment_type'].unique()"
   ]
  },
  {
   "cell_type": "code",
   "execution_count": 14,
   "id": "cdf9f45e",
   "metadata": {
    "ExecuteTime": {
     "end_time": "2023-12-24T03:28:08.212252Z",
     "start_time": "2023-12-24T03:28:08.145324Z"
    }
   },
   "outputs": [],
   "source": [
    "train_data['employment_type'] = train_data['employment_type'].map({'Salaried':0, 'Self employed':1, np.nan: 2})\n",
    "test_data['employment_type'] = test_data['employment_type'].map({'Salaried':0, 'Self employed':1, np.nan: 2})"
   ]
  },
  {
   "cell_type": "code",
   "execution_count": 15,
   "id": "91b1e999",
   "metadata": {
    "ExecuteTime": {
     "end_time": "2023-12-24T03:28:08.221903Z",
     "start_time": "2023-12-24T03:28:08.215628Z"
    },
    "scrolled": true
   },
   "outputs": [],
   "source": [
    "#train_data.loc[(train_data['employment_type'] == 1) & (train_data['loan_default'] == 1), ['loan_default', 'state_id', 'employment_type', 'current_balance', 'perform_cns_score', 'credit_history_length', 'average_acct_age']]"
   ]
  },
  {
   "cell_type": "code",
   "execution_count": 16,
   "id": "24cc070c",
   "metadata": {
    "ExecuteTime": {
     "end_time": "2023-12-24T03:28:08.253467Z",
     "start_time": "2023-12-24T03:28:08.224082Z"
    }
   },
   "outputs": [
    {
     "data": {
      "text/plain": [
       "'9yrs 9mon'"
      ]
     },
     "execution_count": 16,
     "metadata": {},
     "output_type": "execute_result"
    }
   ],
   "source": [
    "train_data['credit_history_length'].max()"
   ]
  },
  {
   "cell_type": "code",
   "execution_count": 17,
   "id": "883b9188",
   "metadata": {
    "ExecuteTime": {
     "end_time": "2023-12-24T03:28:08.260826Z",
     "start_time": "2023-12-24T03:28:08.255759Z"
    }
   },
   "outputs": [],
   "source": [
    "#Now, we need to deal with the date columns i.e., date_of_birth, disbursaldate"
   ]
  },
  {
   "cell_type": "code",
   "execution_count": 18,
   "id": "f81f971f",
   "metadata": {
    "ExecuteTime": {
     "end_time": "2023-12-24T03:28:08.270935Z",
     "start_time": "2023-12-24T03:28:08.263823Z"
    }
   },
   "outputs": [],
   "source": [
    "# Converting the date_of_birth and disbursaldate into DateTime Format"
   ]
  },
  {
   "cell_type": "code",
   "execution_count": 19,
   "id": "225d432d",
   "metadata": {
    "ExecuteTime": {
     "end_time": "2023-12-24T03:28:59.459288Z",
     "start_time": "2023-12-24T03:28:08.272934Z"
    }
   },
   "outputs": [],
   "source": [
    "train_data['date_of_birth'] =  pd.to_datetime(train_data['date_of_birth'])\n",
    "test_data['date_of_birth'] =  pd.to_datetime(test_data['date_of_birth'])\n",
    "\n",
    "train_data['disbursaldate'] =  pd.to_datetime(train_data['disbursaldate'])\n",
    "test_data['disbursaldate'] =  pd.to_datetime(test_data['disbursaldate'])"
   ]
  },
  {
   "cell_type": "code",
   "execution_count": 20,
   "id": "640b0e03",
   "metadata": {
    "ExecuteTime": {
     "end_time": "2023-12-24T03:28:59.471508Z",
     "start_time": "2023-12-24T03:28:59.461302Z"
    }
   },
   "outputs": [
    {
     "data": {
      "text/plain": [
       "0   1974-01-01\n",
       "1   1985-05-20\n",
       "2   1995-10-14\n",
       "3   1973-01-06\n",
       "4   2072-01-06\n",
       "Name: date_of_birth, dtype: datetime64[ns]"
      ]
     },
     "execution_count": 20,
     "metadata": {},
     "output_type": "execute_result"
    }
   ],
   "source": [
    "test_data['date_of_birth'].head()"
   ]
  },
  {
   "cell_type": "code",
   "execution_count": 21,
   "id": "c1e3f9dd",
   "metadata": {
    "ExecuteTime": {
     "end_time": "2023-12-24T03:28:59.490632Z",
     "start_time": "2023-12-24T03:28:59.476504Z"
    }
   },
   "outputs": [
    {
     "data": {
      "text/plain": [
       "Timestamp('2023-12-24 08:58:59.482497')"
      ]
     },
     "execution_count": 21,
     "metadata": {},
     "output_type": "execute_result"
    }
   ],
   "source": [
    "now = pd.Timestamp('now')\n",
    "now"
   ]
  },
  {
   "cell_type": "code",
   "execution_count": 22,
   "id": "cab52bf8",
   "metadata": {
    "ExecuteTime": {
     "end_time": "2023-12-24T03:28:59.572346Z",
     "start_time": "2023-12-24T03:28:59.498135Z"
    }
   },
   "outputs": [],
   "source": [
    "train_data['date_of_birth'] = train_data['date_of_birth'].where(train_data['date_of_birth'] < now, train_data['date_of_birth'] - np.timedelta64(100, 'Y'))\n",
    "train_data['age']=(now- train_data['date_of_birth']).astype('<m8[Y]').astype(int)\n",
    "train_data=train_data.drop('date_of_birth',axis=1)"
   ]
  },
  {
   "cell_type": "code",
   "execution_count": 23,
   "id": "9fcd59e5",
   "metadata": {
    "ExecuteTime": {
     "end_time": "2023-12-24T03:28:59.581423Z",
     "start_time": "2023-12-24T03:28:59.574483Z"
    }
   },
   "outputs": [
    {
     "data": {
      "text/plain": [
       "0    39\n",
       "1    38\n",
       "2    38\n",
       "3    29\n",
       "4    46\n",
       "Name: age, dtype: int32"
      ]
     },
     "execution_count": 23,
     "metadata": {},
     "output_type": "execute_result"
    }
   ],
   "source": [
    "train_data['age'].head()"
   ]
  },
  {
   "cell_type": "code",
   "execution_count": 24,
   "id": "c55b9edf",
   "metadata": {
    "ExecuteTime": {
     "end_time": "2023-12-24T03:28:59.615711Z",
     "start_time": "2023-12-24T03:28:59.584646Z"
    }
   },
   "outputs": [],
   "source": [
    "test_data['date_of_birth'] = test_data['date_of_birth'].where(test_data['date_of_birth'] < now, test_data['date_of_birth'] - np.timedelta64(100, 'Y'))\n",
    "test_data['age']=(now- test_data['date_of_birth']).astype('<m8[Y]').astype(int)\n",
    "test_data=test_data.drop('date_of_birth',axis=1)"
   ]
  },
  {
   "cell_type": "code",
   "execution_count": 25,
   "id": "071876a3",
   "metadata": {
    "ExecuteTime": {
     "end_time": "2023-12-24T03:28:59.623727Z",
     "start_time": "2023-12-24T03:28:59.616715Z"
    }
   },
   "outputs": [
    {
     "data": {
      "text/plain": [
       "0    49\n",
       "1    38\n",
       "2    28\n",
       "3    50\n",
       "4    51\n",
       "Name: age, dtype: int32"
      ]
     },
     "execution_count": 25,
     "metadata": {},
     "output_type": "execute_result"
    }
   ],
   "source": [
    "test_data['age'].head()"
   ]
  },
  {
   "cell_type": "code",
   "execution_count": 26,
   "id": "9dc5990a",
   "metadata": {
    "ExecuteTime": {
     "end_time": "2023-12-24T03:28:59.634035Z",
     "start_time": "2023-12-24T03:28:59.625725Z"
    }
   },
   "outputs": [
    {
     "data": {
      "text/plain": [
       "0   2018-03-08\n",
       "1   2018-09-26\n",
       "2   2018-01-08\n",
       "3   2018-10-26\n",
       "4   2018-09-26\n",
       "Name: disbursaldate, dtype: datetime64[ns]"
      ]
     },
     "execution_count": 26,
     "metadata": {},
     "output_type": "execute_result"
    }
   ],
   "source": [
    "train_data['disbursaldate'].head()"
   ]
  },
  {
   "cell_type": "code",
   "execution_count": 27,
   "id": "321d4af7",
   "metadata": {
    "ExecuteTime": {
     "end_time": "2023-12-24T03:28:59.654455Z",
     "start_time": "2023-12-24T03:28:59.636482Z"
    }
   },
   "outputs": [
    {
     "data": {
      "text/plain": [
       "0    69\n",
       "1    62\n",
       "2    71\n",
       "3    61\n",
       "4    62\n",
       "Name: disbursal_months_passed, dtype: int32"
      ]
     },
     "execution_count": 27,
     "metadata": {},
     "output_type": "execute_result"
    }
   ],
   "source": [
    "train_data['disbursal_months_passed']=((now -train_data['disbursaldate'])/np.timedelta64(1,'M')).astype(int)\n",
    "train_data['disbursal_months_passed'].head()"
   ]
  },
  {
   "cell_type": "code",
   "execution_count": 28,
   "id": "88357b0a",
   "metadata": {
    "ExecuteTime": {
     "end_time": "2023-12-24T03:28:59.900018Z",
     "start_time": "2023-12-24T03:28:59.665337Z"
    }
   },
   "outputs": [
    {
     "name": "stdout",
     "output_type": "stream",
     "text": [
      "<class 'pandas.core.frame.DataFrame'>\n",
      "RangeIndex: 233154 entries, 0 to 233153\n",
      "Data columns (total 42 columns):\n",
      " #   Column                               Non-Null Count   Dtype         \n",
      "---  ------                               --------------   -----         \n",
      " 0   uniqueid                             233154 non-null  int64         \n",
      " 1   disbursed_amount                     233154 non-null  int64         \n",
      " 2   asset_cost                           233154 non-null  int64         \n",
      " 3   ltv                                  233154 non-null  float64       \n",
      " 4   branch_id                            233154 non-null  int64         \n",
      " 5   supplier_id                          233154 non-null  int64         \n",
      " 6   manufacturer_id                      233154 non-null  int64         \n",
      " 7   current_pincode_id                   233154 non-null  int64         \n",
      " 8   employment_type                      233154 non-null  int64         \n",
      " 9   disbursaldate                        233154 non-null  datetime64[ns]\n",
      " 10  state_id                             233154 non-null  int64         \n",
      " 11  employee_code_id                     233154 non-null  int64         \n",
      " 12  mobileno_avl_flag                    233154 non-null  int64         \n",
      " 13  aadhar_flag                          233154 non-null  int64         \n",
      " 14  pan_flag                             233154 non-null  int64         \n",
      " 15  voterid_flag                         233154 non-null  int64         \n",
      " 16  driving_flag                         233154 non-null  int64         \n",
      " 17  passport_flag                        233154 non-null  int64         \n",
      " 18  perform_cns_score                    233154 non-null  int64         \n",
      " 19  perform_cns_score_description        233154 non-null  object        \n",
      " 20  pri_no_of_accts                      233154 non-null  int64         \n",
      " 21  pri_active_accts                     233154 non-null  int64         \n",
      " 22  pri_overdue_accts                    233154 non-null  int64         \n",
      " 23  pri_current_balance                  233154 non-null  int64         \n",
      " 24  pri_sanctioned_amount                233154 non-null  int64         \n",
      " 25  pri_disbursed_amount                 233154 non-null  int64         \n",
      " 26  sec_no_of_accts                      233154 non-null  int64         \n",
      " 27  sec_active_accts                     233154 non-null  int64         \n",
      " 28  sec_overdue_accts                    233154 non-null  int64         \n",
      " 29  sec_current_balance                  233154 non-null  int64         \n",
      " 30  sec_sanctioned_amount                233154 non-null  int64         \n",
      " 31  sec_disbursed_amount                 233154 non-null  int64         \n",
      " 32  primary_instal_amt                   233154 non-null  int64         \n",
      " 33  sec_instal_amt                       233154 non-null  int64         \n",
      " 34  new_accts_in_last_six_months         233154 non-null  int64         \n",
      " 35  delinquent_accts_in_last_six_months  233154 non-null  int64         \n",
      " 36  average_acct_age                     233154 non-null  object        \n",
      " 37  credit_history_length                233154 non-null  object        \n",
      " 38  no_of_inquiries                      233154 non-null  int64         \n",
      " 39  loan_default                         233154 non-null  int64         \n",
      " 40  age                                  233154 non-null  int32         \n",
      " 41  disbursal_months_passed              233154 non-null  int32         \n",
      "dtypes: datetime64[ns](1), float64(1), int32(2), int64(35), object(3)\n",
      "memory usage: 72.9+ MB\n"
     ]
    }
   ],
   "source": [
    "train_data.info()"
   ]
  },
  {
   "cell_type": "code",
   "execution_count": 29,
   "id": "56623b75",
   "metadata": {
    "ExecuteTime": {
     "end_time": "2023-12-24T03:28:59.923523Z",
     "start_time": "2023-12-24T03:28:59.904179Z"
    }
   },
   "outputs": [
    {
     "data": {
      "text/plain": [
       "0    69\n",
       "1    61\n",
       "2    60\n",
       "3    60\n",
       "4    61\n",
       "Name: disbursal_months_passed, dtype: int32"
      ]
     },
     "execution_count": 29,
     "metadata": {},
     "output_type": "execute_result"
    }
   ],
   "source": [
    "test_data['disbursal_months_passed']=((now - test_data['disbursaldate'])/np.timedelta64(1,'M')).astype(int)\n",
    "test_data['disbursal_months_passed'].head()"
   ]
  },
  {
   "cell_type": "code",
   "execution_count": 30,
   "id": "2889975e",
   "metadata": {
    "ExecuteTime": {
     "end_time": "2023-12-24T03:29:00.042488Z",
     "start_time": "2023-12-24T03:28:59.927518Z"
    }
   },
   "outputs": [],
   "source": [
    "train_data = train_data.drop('disbursaldate',axis=1)\n",
    "test_data = test_data.drop('disbursaldate',axis=1)"
   ]
  },
  {
   "cell_type": "code",
   "execution_count": 31,
   "id": "228944bd",
   "metadata": {
    "ExecuteTime": {
     "end_time": "2023-12-24T03:29:00.052815Z",
     "start_time": "2023-12-24T03:29:00.044574Z"
    }
   },
   "outputs": [],
   "source": [
    "# let us convert average_acct_age and credit_history_length into months "
   ]
  },
  {
   "cell_type": "code",
   "execution_count": 32,
   "id": "38cef3b4",
   "metadata": {
    "ExecuteTime": {
     "end_time": "2023-12-24T03:29:00.071006Z",
     "start_time": "2023-12-24T03:29:00.058042Z"
    }
   },
   "outputs": [
    {
     "data": {
      "text/plain": [
       "0     0yrs 0mon\n",
       "1    1yrs 11mon\n",
       "2     0yrs 0mon\n",
       "3     0yrs 8mon\n",
       "4     0yrs 0mon\n",
       "Name: average_acct_age, dtype: object"
      ]
     },
     "execution_count": 32,
     "metadata": {},
     "output_type": "execute_result"
    }
   ],
   "source": [
    "train_data['average_acct_age'].head()"
   ]
  },
  {
   "cell_type": "code",
   "execution_count": 33,
   "id": "e27881b3",
   "metadata": {
    "ExecuteTime": {
     "end_time": "2023-12-24T03:29:01.135894Z",
     "start_time": "2023-12-24T03:29:00.075320Z"
    }
   },
   "outputs": [],
   "source": [
    "train_data[\"average_acct_age\"]=train_data[\"average_acct_age\"].apply(lambda x:(int((x.split(\"y\"))[0])*12)+(int((x.split())[1].split(\"m\")[0])))\n",
    "train_data[\"credit_history_length\"]=train_data[\"credit_history_length\"].apply(lambda x:(int((x.split(\"y\"))[0])*12)+(int((x.split())[1].split(\"m\")[0])))"
   ]
  },
  {
   "cell_type": "code",
   "execution_count": 34,
   "id": "8cf0e93b",
   "metadata": {
    "ExecuteTime": {
     "end_time": "2023-12-24T03:29:01.254423Z",
     "start_time": "2023-12-24T03:29:01.140922Z"
    }
   },
   "outputs": [
    {
     "name": "stdout",
     "output_type": "stream",
     "text": [
      "<class 'pandas.core.frame.DataFrame'>\n",
      "RangeIndex: 233154 entries, 0 to 233153\n",
      "Data columns (total 41 columns):\n",
      " #   Column                               Non-Null Count   Dtype  \n",
      "---  ------                               --------------   -----  \n",
      " 0   uniqueid                             233154 non-null  int64  \n",
      " 1   disbursed_amount                     233154 non-null  int64  \n",
      " 2   asset_cost                           233154 non-null  int64  \n",
      " 3   ltv                                  233154 non-null  float64\n",
      " 4   branch_id                            233154 non-null  int64  \n",
      " 5   supplier_id                          233154 non-null  int64  \n",
      " 6   manufacturer_id                      233154 non-null  int64  \n",
      " 7   current_pincode_id                   233154 non-null  int64  \n",
      " 8   employment_type                      233154 non-null  int64  \n",
      " 9   state_id                             233154 non-null  int64  \n",
      " 10  employee_code_id                     233154 non-null  int64  \n",
      " 11  mobileno_avl_flag                    233154 non-null  int64  \n",
      " 12  aadhar_flag                          233154 non-null  int64  \n",
      " 13  pan_flag                             233154 non-null  int64  \n",
      " 14  voterid_flag                         233154 non-null  int64  \n",
      " 15  driving_flag                         233154 non-null  int64  \n",
      " 16  passport_flag                        233154 non-null  int64  \n",
      " 17  perform_cns_score                    233154 non-null  int64  \n",
      " 18  perform_cns_score_description        233154 non-null  object \n",
      " 19  pri_no_of_accts                      233154 non-null  int64  \n",
      " 20  pri_active_accts                     233154 non-null  int64  \n",
      " 21  pri_overdue_accts                    233154 non-null  int64  \n",
      " 22  pri_current_balance                  233154 non-null  int64  \n",
      " 23  pri_sanctioned_amount                233154 non-null  int64  \n",
      " 24  pri_disbursed_amount                 233154 non-null  int64  \n",
      " 25  sec_no_of_accts                      233154 non-null  int64  \n",
      " 26  sec_active_accts                     233154 non-null  int64  \n",
      " 27  sec_overdue_accts                    233154 non-null  int64  \n",
      " 28  sec_current_balance                  233154 non-null  int64  \n",
      " 29  sec_sanctioned_amount                233154 non-null  int64  \n",
      " 30  sec_disbursed_amount                 233154 non-null  int64  \n",
      " 31  primary_instal_amt                   233154 non-null  int64  \n",
      " 32  sec_instal_amt                       233154 non-null  int64  \n",
      " 33  new_accts_in_last_six_months         233154 non-null  int64  \n",
      " 34  delinquent_accts_in_last_six_months  233154 non-null  int64  \n",
      " 35  average_acct_age                     233154 non-null  int64  \n",
      " 36  credit_history_length                233154 non-null  int64  \n",
      " 37  no_of_inquiries                      233154 non-null  int64  \n",
      " 38  loan_default                         233154 non-null  int64  \n",
      " 39  age                                  233154 non-null  int32  \n",
      " 40  disbursal_months_passed              233154 non-null  int32  \n",
      "dtypes: float64(1), int32(2), int64(37), object(1)\n",
      "memory usage: 71.2+ MB\n"
     ]
    }
   ],
   "source": [
    "train_data.info()"
   ]
  },
  {
   "cell_type": "code",
   "execution_count": 35,
   "id": "13d83fcb",
   "metadata": {
    "ExecuteTime": {
     "end_time": "2023-12-24T03:29:01.366563Z",
     "start_time": "2023-12-24T03:29:01.259415Z"
    }
   },
   "outputs": [
    {
     "data": {
      "text/html": [
       "<div>\n",
       "<style scoped>\n",
       "    .dataframe tbody tr th:only-of-type {\n",
       "        vertical-align: middle;\n",
       "    }\n",
       "\n",
       "    .dataframe tbody tr th {\n",
       "        vertical-align: top;\n",
       "    }\n",
       "\n",
       "    .dataframe thead th {\n",
       "        text-align: right;\n",
       "    }\n",
       "</style>\n",
       "<table border=\"1\" class=\"dataframe\">\n",
       "  <thead>\n",
       "    <tr style=\"text-align: right;\">\n",
       "      <th></th>\n",
       "      <th>perform_cns_score_description</th>\n",
       "      <th>perform_cns_score</th>\n",
       "    </tr>\n",
       "  </thead>\n",
       "  <tbody>\n",
       "    <tr>\n",
       "      <th>0</th>\n",
       "      <td>No Bureau History Available</td>\n",
       "      <td>0</td>\n",
       "    </tr>\n",
       "    <tr>\n",
       "      <th>1</th>\n",
       "      <td>I-Medium Risk</td>\n",
       "      <td>598</td>\n",
       "    </tr>\n",
       "    <tr>\n",
       "      <th>2</th>\n",
       "      <td>No Bureau History Available</td>\n",
       "      <td>0</td>\n",
       "    </tr>\n",
       "    <tr>\n",
       "      <th>3</th>\n",
       "      <td>L-Very High Risk</td>\n",
       "      <td>305</td>\n",
       "    </tr>\n",
       "    <tr>\n",
       "      <th>4</th>\n",
       "      <td>No Bureau History Available</td>\n",
       "      <td>0</td>\n",
       "    </tr>\n",
       "  </tbody>\n",
       "</table>\n",
       "</div>"
      ],
      "text/plain": [
       "  perform_cns_score_description  perform_cns_score\n",
       "0   No Bureau History Available                  0\n",
       "1                 I-Medium Risk                598\n",
       "2   No Bureau History Available                  0\n",
       "3              L-Very High Risk                305\n",
       "4   No Bureau History Available                  0"
      ]
     },
     "execution_count": 35,
     "metadata": {},
     "output_type": "execute_result"
    }
   ],
   "source": [
    "train_data[['perform_cns_score_description','perform_cns_score']].head()"
   ]
  },
  {
   "cell_type": "code",
   "execution_count": 36,
   "id": "75437a99",
   "metadata": {
    "ExecuteTime": {
     "end_time": "2023-12-24T03:29:01.382737Z",
     "start_time": "2023-12-24T03:29:01.371589Z"
    }
   },
   "outputs": [
    {
     "data": {
      "text/plain": [
       "(890, 0)"
      ]
     },
     "execution_count": 36,
     "metadata": {},
     "output_type": "execute_result"
    }
   ],
   "source": [
    "train_data['perform_cns_score'].max(), train_data['perform_cns_score'].min()"
   ]
  },
  {
   "cell_type": "code",
   "execution_count": 37,
   "id": "a2c9082b",
   "metadata": {
    "ExecuteTime": {
     "end_time": "2023-12-24T03:29:01.422314Z",
     "start_time": "2023-12-24T03:29:01.387260Z"
    }
   },
   "outputs": [
    {
     "data": {
      "text/plain": [
       "11125     A-Very Low Risk\n",
       "100297    A-Very Low Risk\n",
       "195585    A-Very Low Risk\n",
       "211350    A-Very Low Risk\n",
       "Name: perform_cns_score_description, dtype: object"
      ]
     },
     "execution_count": 37,
     "metadata": {},
     "output_type": "execute_result"
    }
   ],
   "source": [
    "train_data[train_data['perform_cns_score'] == 890]['perform_cns_score_description']"
   ]
  },
  {
   "cell_type": "code",
   "execution_count": 38,
   "id": "8ebee11d",
   "metadata": {
    "ExecuteTime": {
     "end_time": "2023-12-24T03:29:01.477424Z",
     "start_time": "2023-12-24T03:29:01.427706Z"
    }
   },
   "outputs": [
    {
     "data": {
      "text/plain": [
       "No Bureau History Available                                116950\n",
       "C-Very Low Risk                                             16045\n",
       "A-Very Low Risk                                             14124\n",
       "D-Very Low Risk                                             11358\n",
       "B-Very Low Risk                                              9201\n",
       "M-Very High Risk                                             8776\n",
       "F-Low Risk                                                   8485\n",
       "K-High Risk                                                  8277\n",
       "H-Medium Risk                                                6855\n",
       "E-Low Risk                                                   5821\n",
       "I-Medium Risk                                                5557\n",
       "G-Low Risk                                                   3988\n",
       "Not Scored: Sufficient History Not Available                 3765\n",
       "J-High Risk                                                  3748\n",
       "Not Scored: Not Enough Info available on the customer        3672\n",
       "Not Scored: No Activity seen on the customer (Inactive)      2885\n",
       "Not Scored: No Updates available in last 36 months           1534\n",
       "L-Very High Risk                                             1134\n",
       "Not Scored: Only a Guarantor                                  976\n",
       "Not Scored: More than 50 active Accounts found                  3\n",
       "Name: perform_cns_score_description, dtype: int64"
      ]
     },
     "execution_count": 38,
     "metadata": {},
     "output_type": "execute_result"
    }
   ],
   "source": [
    "train_data['perform_cns_score_description'].value_counts()"
   ]
  },
  {
   "cell_type": "code",
   "execution_count": 39,
   "id": "32ef80a8",
   "metadata": {
    "ExecuteTime": {
     "end_time": "2023-12-24T03:29:01.493588Z",
     "start_time": "2023-12-24T03:29:01.482566Z"
    }
   },
   "outputs": [],
   "source": [
    "def catogorizing(i):\n",
    "    if i<300:\n",
    "        return 0\n",
    "    elif (i>=300) and (i<=350):\n",
    "        return 1\n",
    "    elif (i>350) and (i<=570):\n",
    "        return 2\n",
    "    elif (i>570) and (i<=630):\n",
    "        return 3\n",
    "    elif (i>630) and (i<=705):\n",
    "        return 4\n",
    "    else:\n",
    "        return 5"
   ]
  },
  {
   "cell_type": "code",
   "execution_count": 40,
   "id": "997222a1",
   "metadata": {
    "ExecuteTime": {
     "end_time": "2023-12-24T03:29:01.659072Z",
     "start_time": "2023-12-24T03:29:01.497668Z"
    }
   },
   "outputs": [],
   "source": [
    "train_data['perform_cns_score_description'] = train_data['perform_cns_score'].apply(catogorizing)"
   ]
  },
  {
   "cell_type": "code",
   "execution_count": 41,
   "id": "5f3c3c7f",
   "metadata": {
    "ExecuteTime": {
     "end_time": "2023-12-24T03:29:01.673550Z",
     "start_time": "2023-12-24T03:29:01.662074Z"
    }
   },
   "outputs": [
    {
     "data": {
      "text/plain": [
       "0    0\n",
       "1    3\n",
       "2    0\n",
       "3    1\n",
       "4    0\n",
       "Name: perform_cns_score_description, dtype: int64"
      ]
     },
     "execution_count": 41,
     "metadata": {},
     "output_type": "execute_result"
    }
   ],
   "source": [
    "train_data['perform_cns_score_description'].head()"
   ]
  },
  {
   "cell_type": "code",
   "execution_count": 42,
   "id": "f86fe17f",
   "metadata": {
    "ExecuteTime": {
     "end_time": "2023-12-24T03:29:01.716086Z",
     "start_time": "2023-12-24T03:29:01.677974Z"
    }
   },
   "outputs": [
    {
     "data": {
      "text/plain": [
       "0    129785\n",
       "5     50728\n",
       "4     18294\n",
       "3     12412\n",
       "2     12025\n",
       "1      9910\n",
       "Name: perform_cns_score_description, dtype: int64"
      ]
     },
     "execution_count": 42,
     "metadata": {},
     "output_type": "execute_result"
    }
   ],
   "source": [
    "train_data['perform_cns_score_description'].value_counts()"
   ]
  },
  {
   "cell_type": "code",
   "execution_count": 43,
   "id": "d8399679",
   "metadata": {
    "ExecuteTime": {
     "end_time": "2023-12-24T03:29:01.832018Z",
     "start_time": "2023-12-24T03:29:01.721229Z"
    }
   },
   "outputs": [],
   "source": [
    "test_data['perform_cns_score_description'] = test_data['perform_cns_score'].apply(catogorizing)"
   ]
  },
  {
   "cell_type": "code",
   "execution_count": 44,
   "id": "9b08ab8b",
   "metadata": {
    "ExecuteTime": {
     "end_time": "2023-12-24T03:29:01.852467Z",
     "start_time": "2023-12-24T03:29:01.836014Z"
    }
   },
   "outputs": [
    {
     "data": {
      "text/plain": [
       "array([0, 1, 2], dtype=int64)"
      ]
     },
     "execution_count": 44,
     "metadata": {},
     "output_type": "execute_result"
    }
   ],
   "source": [
    "train_data['employment_type'].unique()"
   ]
  },
  {
   "cell_type": "code",
   "execution_count": 45,
   "id": "27cfc482",
   "metadata": {
    "ExecuteTime": {
     "end_time": "2023-12-24T03:29:01.867871Z",
     "start_time": "2023-12-24T03:29:01.856545Z"
    }
   },
   "outputs": [
    {
     "data": {
      "text/plain": [
       "0    0\n",
       "1    0\n",
       "2    0\n",
       "3    0\n",
       "4    0\n",
       "Name: sec_no_of_accts, dtype: int64"
      ]
     },
     "execution_count": 45,
     "metadata": {},
     "output_type": "execute_result"
    }
   ],
   "source": [
    "train_data['sec_no_of_accts'].head()"
   ]
  },
  {
   "cell_type": "code",
   "execution_count": 46,
   "id": "b37547ca",
   "metadata": {
    "ExecuteTime": {
     "end_time": "2023-12-24T03:29:01.920331Z",
     "start_time": "2023-12-24T03:29:01.871901Z"
    }
   },
   "outputs": [
    {
     "name": "stdout",
     "output_type": "stream",
     "text": [
      "<class 'pandas.core.frame.DataFrame'>\n",
      "RangeIndex: 233154 entries, 0 to 233153\n",
      "Data columns (total 41 columns):\n",
      " #   Column                               Non-Null Count   Dtype  \n",
      "---  ------                               --------------   -----  \n",
      " 0   uniqueid                             233154 non-null  int64  \n",
      " 1   disbursed_amount                     233154 non-null  int64  \n",
      " 2   asset_cost                           233154 non-null  int64  \n",
      " 3   ltv                                  233154 non-null  float64\n",
      " 4   branch_id                            233154 non-null  int64  \n",
      " 5   supplier_id                          233154 non-null  int64  \n",
      " 6   manufacturer_id                      233154 non-null  int64  \n",
      " 7   current_pincode_id                   233154 non-null  int64  \n",
      " 8   employment_type                      233154 non-null  int64  \n",
      " 9   state_id                             233154 non-null  int64  \n",
      " 10  employee_code_id                     233154 non-null  int64  \n",
      " 11  mobileno_avl_flag                    233154 non-null  int64  \n",
      " 12  aadhar_flag                          233154 non-null  int64  \n",
      " 13  pan_flag                             233154 non-null  int64  \n",
      " 14  voterid_flag                         233154 non-null  int64  \n",
      " 15  driving_flag                         233154 non-null  int64  \n",
      " 16  passport_flag                        233154 non-null  int64  \n",
      " 17  perform_cns_score                    233154 non-null  int64  \n",
      " 18  perform_cns_score_description        233154 non-null  int64  \n",
      " 19  pri_no_of_accts                      233154 non-null  int64  \n",
      " 20  pri_active_accts                     233154 non-null  int64  \n",
      " 21  pri_overdue_accts                    233154 non-null  int64  \n",
      " 22  pri_current_balance                  233154 non-null  int64  \n",
      " 23  pri_sanctioned_amount                233154 non-null  int64  \n",
      " 24  pri_disbursed_amount                 233154 non-null  int64  \n",
      " 25  sec_no_of_accts                      233154 non-null  int64  \n",
      " 26  sec_active_accts                     233154 non-null  int64  \n",
      " 27  sec_overdue_accts                    233154 non-null  int64  \n",
      " 28  sec_current_balance                  233154 non-null  int64  \n",
      " 29  sec_sanctioned_amount                233154 non-null  int64  \n",
      " 30  sec_disbursed_amount                 233154 non-null  int64  \n",
      " 31  primary_instal_amt                   233154 non-null  int64  \n",
      " 32  sec_instal_amt                       233154 non-null  int64  \n",
      " 33  new_accts_in_last_six_months         233154 non-null  int64  \n",
      " 34  delinquent_accts_in_last_six_months  233154 non-null  int64  \n",
      " 35  average_acct_age                     233154 non-null  int64  \n",
      " 36  credit_history_length                233154 non-null  int64  \n",
      " 37  no_of_inquiries                      233154 non-null  int64  \n",
      " 38  loan_default                         233154 non-null  int64  \n",
      " 39  age                                  233154 non-null  int32  \n",
      " 40  disbursal_months_passed              233154 non-null  int32  \n",
      "dtypes: float64(1), int32(2), int64(38)\n",
      "memory usage: 71.2 MB\n"
     ]
    }
   ],
   "source": [
    "train_data.info()"
   ]
  },
  {
   "cell_type": "code",
   "execution_count": 47,
   "id": "a0ac1685",
   "metadata": {
    "ExecuteTime": {
     "end_time": "2023-12-24T03:29:02.081778Z",
     "start_time": "2023-12-24T03:29:01.926629Z"
    }
   },
   "outputs": [],
   "source": [
    "train_data['no_of_accts']=train_data['pri_no_of_accts']+train_data['sec_no_of_accts']\n",
    "train_data['active_accts']=train_data['pri_active_accts']+train_data['sec_active_accts']\n",
    "train_data['overdue_accts']=train_data['pri_overdue_accts']+train_data['sec_overdue_accts']\n",
    "train_data['current_balance']=train_data['pri_current_balance']+train_data['sec_current_balance']\n",
    "train_data['sanctioned_amount']=train_data['pri_sanctioned_amount']+train_data['sec_sanctioned_amount']\n",
    "train_data['disbursed_amount']=train_data['pri_disbursed_amount']+train_data['sec_disbursed_amount']\n",
    "train_data['instal_amt']=train_data['primary_instal_amt']+train_data['sec_instal_amt']\n",
    "\n",
    "train_data=train_data.drop(['pri_no_of_accts', 'sec_no_of_accts', 'pri_active_accts', 'sec_active_accts', 'pri_overdue_accts', 'sec_overdue_accts', 'pri_current_balance', 'sec_current_balance', 'pri_sanctioned_amount', 'sec_sanctioned_amount', 'pri_disbursed_amount', 'sec_disbursed_amount', 'primary_instal_amt', 'sec_instal_amt'],axis=1)\n"
   ]
  },
  {
   "cell_type": "code",
   "execution_count": 48,
   "id": "0547e28c",
   "metadata": {
    "ExecuteTime": {
     "end_time": "2023-12-24T03:29:02.153526Z",
     "start_time": "2023-12-24T03:29:02.087283Z"
    }
   },
   "outputs": [],
   "source": [
    "test_data['no_of_accts']=test_data['pri_no_of_accts']+test_data['sec_no_of_accts']\n",
    "test_data['active_accts']=test_data['pri_active_accts']+test_data['sec_active_accts']\n",
    "test_data['overdue_accts']=test_data['pri_overdue_accts']+test_data['sec_overdue_accts']\n",
    "test_data['current_balance']=test_data['pri_current_balance']+test_data['sec_current_balance']\n",
    "test_data['sanctioned_amount']=test_data['pri_sanctioned_amount']+test_data['sec_sanctioned_amount']\n",
    "test_data['disbursed_amount']=test_data['pri_disbursed_amount']+test_data['sec_disbursed_amount']\n",
    "test_data['instal_amt']=test_data['primary_instal_amt']+test_data['sec_instal_amt']\n",
    "\n",
    "test_data=test_data.drop(['pri_no_of_accts', 'sec_no_of_accts', 'pri_active_accts', 'sec_active_accts', 'pri_overdue_accts', 'sec_overdue_accts', 'pri_current_balance', 'sec_current_balance', 'pri_sanctioned_amount', 'sec_sanctioned_amount', 'pri_disbursed_amount', 'sec_disbursed_amount', 'primary_instal_amt', 'sec_instal_amt'],axis=1)"
   ]
  },
  {
   "cell_type": "code",
   "execution_count": 49,
   "id": "ef475f18",
   "metadata": {
    "ExecuteTime": {
     "end_time": "2023-12-24T03:29:02.162456Z",
     "start_time": "2023-12-24T03:29:02.155556Z"
    }
   },
   "outputs": [
    {
     "data": {
      "text/plain": [
       "((112392, 32), (233154, 33))"
      ]
     },
     "execution_count": 49,
     "metadata": {},
     "output_type": "execute_result"
    }
   ],
   "source": [
    "test_data.shape, train_data.shape"
   ]
  },
  {
   "cell_type": "code",
   "execution_count": 50,
   "id": "d4738d68",
   "metadata": {
    "ExecuteTime": {
     "end_time": "2023-12-24T03:29:02.175090Z",
     "start_time": "2023-12-24T03:29:02.165452Z"
    }
   },
   "outputs": [
    {
     "data": {
      "text/plain": [
       "Index(['uniqueid', 'branch_id', 'supplier_id', 'manufacturer_id',\n",
       "       'current_pincode_id', 'state_id', 'employee_code_id', 'voterid_flag'],\n",
       "      dtype='object')"
      ]
     },
     "execution_count": 50,
     "metadata": {},
     "output_type": "execute_result"
    }
   ],
   "source": [
    "train_data.columns[train_data.columns.str.contains(\"id\")]"
   ]
  },
  {
   "cell_type": "code",
   "execution_count": 51,
   "id": "b8fa53e8",
   "metadata": {
    "ExecuteTime": {
     "end_time": "2023-12-24T03:29:02.185715Z",
     "start_time": "2023-12-24T03:29:02.177098Z"
    }
   },
   "outputs": [
    {
     "data": {
      "text/plain": [
       "Index(['uniqueid', 'branch_id', 'supplier_id', 'manufacturer_id',\n",
       "       'current_pincode_id', 'state_id', 'employee_code_id', 'voterid_flag'],\n",
       "      dtype='object')"
      ]
     },
     "execution_count": 51,
     "metadata": {},
     "output_type": "execute_result"
    }
   ],
   "source": [
    "test_data.columns[test_data.columns.str.contains(\"id\")]"
   ]
  },
  {
   "cell_type": "code",
   "execution_count": 52,
   "id": "699f03c3",
   "metadata": {
    "ExecuteTime": {
     "end_time": "2023-12-24T03:29:02.272905Z",
     "start_time": "2023-12-24T03:29:02.188717Z"
    }
   },
   "outputs": [],
   "source": [
    "#Dropping the unnecessary columns\n",
    "train_data = train_data.drop(['uniqueid', 'branch_id', 'supplier_id', 'manufacturer_id','current_pincode_id', 'state_id', 'employee_code_id'],axis=1)\n",
    "test_data = test_data.drop(['uniqueid', 'branch_id', 'supplier_id', 'manufacturer_id','current_pincode_id', 'state_id', 'employee_code_id'],axis=1)"
   ]
  },
  {
   "cell_type": "markdown",
   "id": "a20222a5",
   "metadata": {},
   "source": [
    "## Training the model "
   ]
  },
  {
   "cell_type": "code",
   "execution_count": 53,
   "id": "60d4da31",
   "metadata": {
    "ExecuteTime": {
     "end_time": "2023-12-24T03:29:05.932456Z",
     "start_time": "2023-12-24T03:29:02.276756Z"
    }
   },
   "outputs": [],
   "source": [
    "from sklearn.model_selection import *\n",
    "from sklearn.metrics import *\n",
    "from sklearn.linear_model import LogisticRegression\n",
    "from sklearn.model_selection import KFold"
   ]
  },
  {
   "cell_type": "code",
   "execution_count": 54,
   "id": "53b99aae",
   "metadata": {
    "ExecuteTime": {
     "end_time": "2023-12-24T03:29:05.979180Z",
     "start_time": "2023-12-24T03:29:05.935452Z"
    }
   },
   "outputs": [],
   "source": [
    "y = train_data['loan_default']\n",
    "x = train_data.drop(['loan_default'],axis=1)"
   ]
  },
  {
   "cell_type": "code",
   "execution_count": 55,
   "id": "81a8a5bf",
   "metadata": {
    "ExecuteTime": {
     "end_time": "2023-12-24T03:29:06.000156Z",
     "start_time": "2023-12-24T03:29:05.984008Z"
    }
   },
   "outputs": [
    {
     "data": {
      "text/plain": [
       "0    78.292888\n",
       "1    21.707112\n",
       "Name: loan_default, dtype: float64"
      ]
     },
     "execution_count": 55,
     "metadata": {},
     "output_type": "execute_result"
    }
   ],
   "source": [
    "y.value_counts()/len(y)*100"
   ]
  },
  {
   "cell_type": "code",
   "execution_count": 56,
   "id": "6c06d40b",
   "metadata": {
    "ExecuteTime": {
     "end_time": "2023-12-24T03:29:06.233787Z",
     "start_time": "2023-12-24T03:29:06.004251Z"
    }
   },
   "outputs": [
    {
     "name": "stdout",
     "output_type": "stream",
     "text": [
      "Shape of train : (186523, 25)\n",
      "Shape of test : (46631, 25)\n"
     ]
    }
   ],
   "source": [
    "x_train, x_test, y_train, y_test = train_test_split(x, y , test_size = 0.20, random_state = 49)\n",
    "print(\"Shape of train :\", x_train.shape)\n",
    "print(\"Shape of test :\", x_test.shape)"
   ]
  },
  {
   "cell_type": "code",
   "execution_count": 57,
   "id": "a37777a3",
   "metadata": {
    "ExecuteTime": {
     "end_time": "2023-12-24T03:29:06.254383Z",
     "start_time": "2023-12-24T03:29:06.238865Z"
    }
   },
   "outputs": [
    {
     "data": {
      "text/plain": [
       "0    78.357629\n",
       "1    21.642371\n",
       "Name: loan_default, dtype: float64"
      ]
     },
     "execution_count": 57,
     "metadata": {},
     "output_type": "execute_result"
    }
   ],
   "source": [
    "y_train.value_counts()/len(y_train)*100"
   ]
  },
  {
   "cell_type": "code",
   "execution_count": 58,
   "id": "8f5ad2ed",
   "metadata": {
    "ExecuteTime": {
     "end_time": "2023-12-24T03:29:06.396654Z",
     "start_time": "2023-12-24T03:29:06.259382Z"
    }
   },
   "outputs": [],
   "source": [
    "train_x,test_x,train_y,test_y=train_test_split(x,y,test_size=0.2,random_state=0)"
   ]
  },
  {
   "cell_type": "code",
   "execution_count": 59,
   "id": "3b241fcf",
   "metadata": {
    "ExecuteTime": {
     "end_time": "2023-12-24T03:29:06.408371Z",
     "start_time": "2023-12-24T03:29:06.401176Z"
    }
   },
   "outputs": [
    {
     "data": {
      "text/plain": [
       "((186523, 25), (46631, 25))"
      ]
     },
     "execution_count": 59,
     "metadata": {},
     "output_type": "execute_result"
    }
   ],
   "source": [
    "train_x.shape,test_x.shape"
   ]
  },
  {
   "cell_type": "code",
   "execution_count": 60,
   "id": "b80e49ac",
   "metadata": {
    "ExecuteTime": {
     "end_time": "2023-12-24T03:29:06.442459Z",
     "start_time": "2023-12-24T03:29:06.412385Z"
    }
   },
   "outputs": [],
   "source": [
    "from sklearn.preprocessing import StandardScaler"
   ]
  },
  {
   "cell_type": "code",
   "execution_count": 61,
   "id": "b839bb37",
   "metadata": {
    "ExecuteTime": {
     "end_time": "2023-12-24T03:29:06.574892Z",
     "start_time": "2023-12-24T03:29:06.447453Z"
    }
   },
   "outputs": [
    {
     "data": {
      "text/html": [
       "<style>#sk-container-id-1 {color: black;background-color: white;}#sk-container-id-1 pre{padding: 0;}#sk-container-id-1 div.sk-toggleable {background-color: white;}#sk-container-id-1 label.sk-toggleable__label {cursor: pointer;display: block;width: 100%;margin-bottom: 0;padding: 0.3em;box-sizing: border-box;text-align: center;}#sk-container-id-1 label.sk-toggleable__label-arrow:before {content: \"▸\";float: left;margin-right: 0.25em;color: #696969;}#sk-container-id-1 label.sk-toggleable__label-arrow:hover:before {color: black;}#sk-container-id-1 div.sk-estimator:hover label.sk-toggleable__label-arrow:before {color: black;}#sk-container-id-1 div.sk-toggleable__content {max-height: 0;max-width: 0;overflow: hidden;text-align: left;background-color: #f0f8ff;}#sk-container-id-1 div.sk-toggleable__content pre {margin: 0.2em;color: black;border-radius: 0.25em;background-color: #f0f8ff;}#sk-container-id-1 input.sk-toggleable__control:checked~div.sk-toggleable__content {max-height: 200px;max-width: 100%;overflow: auto;}#sk-container-id-1 input.sk-toggleable__control:checked~label.sk-toggleable__label-arrow:before {content: \"▾\";}#sk-container-id-1 div.sk-estimator input.sk-toggleable__control:checked~label.sk-toggleable__label {background-color: #d4ebff;}#sk-container-id-1 div.sk-label input.sk-toggleable__control:checked~label.sk-toggleable__label {background-color: #d4ebff;}#sk-container-id-1 input.sk-hidden--visually {border: 0;clip: rect(1px 1px 1px 1px);clip: rect(1px, 1px, 1px, 1px);height: 1px;margin: -1px;overflow: hidden;padding: 0;position: absolute;width: 1px;}#sk-container-id-1 div.sk-estimator {font-family: monospace;background-color: #f0f8ff;border: 1px dotted black;border-radius: 0.25em;box-sizing: border-box;margin-bottom: 0.5em;}#sk-container-id-1 div.sk-estimator:hover {background-color: #d4ebff;}#sk-container-id-1 div.sk-parallel-item::after {content: \"\";width: 100%;border-bottom: 1px solid gray;flex-grow: 1;}#sk-container-id-1 div.sk-label:hover label.sk-toggleable__label {background-color: #d4ebff;}#sk-container-id-1 div.sk-serial::before {content: \"\";position: absolute;border-left: 1px solid gray;box-sizing: border-box;top: 0;bottom: 0;left: 50%;z-index: 0;}#sk-container-id-1 div.sk-serial {display: flex;flex-direction: column;align-items: center;background-color: white;padding-right: 0.2em;padding-left: 0.2em;position: relative;}#sk-container-id-1 div.sk-item {position: relative;z-index: 1;}#sk-container-id-1 div.sk-parallel {display: flex;align-items: stretch;justify-content: center;background-color: white;position: relative;}#sk-container-id-1 div.sk-item::before, #sk-container-id-1 div.sk-parallel-item::before {content: \"\";position: absolute;border-left: 1px solid gray;box-sizing: border-box;top: 0;bottom: 0;left: 50%;z-index: -1;}#sk-container-id-1 div.sk-parallel-item {display: flex;flex-direction: column;z-index: 1;position: relative;background-color: white;}#sk-container-id-1 div.sk-parallel-item:first-child::after {align-self: flex-end;width: 50%;}#sk-container-id-1 div.sk-parallel-item:last-child::after {align-self: flex-start;width: 50%;}#sk-container-id-1 div.sk-parallel-item:only-child::after {width: 0;}#sk-container-id-1 div.sk-dashed-wrapped {border: 1px dashed gray;margin: 0 0.4em 0.5em 0.4em;box-sizing: border-box;padding-bottom: 0.4em;background-color: white;}#sk-container-id-1 div.sk-label label {font-family: monospace;font-weight: bold;display: inline-block;line-height: 1.2em;}#sk-container-id-1 div.sk-label-container {text-align: center;}#sk-container-id-1 div.sk-container {/* jupyter's `normalize.less` sets `[hidden] { display: none; }` but bootstrap.min.css set `[hidden] { display: none !important; }` so we also need the `!important` here to be able to override the default hidden behavior on the sphinx rendered scikit-learn.org. See: https://github.com/scikit-learn/scikit-learn/issues/21755 */display: inline-block !important;position: relative;}#sk-container-id-1 div.sk-text-repr-fallback {display: none;}</style><div id=\"sk-container-id-1\" class=\"sk-top-container\"><div class=\"sk-text-repr-fallback\"><pre>StandardScaler()</pre><b>In a Jupyter environment, please rerun this cell to show the HTML representation or trust the notebook. <br />On GitHub, the HTML representation is unable to render, please try loading this page with nbviewer.org.</b></div><div class=\"sk-container\" hidden><div class=\"sk-item\"><div class=\"sk-estimator sk-toggleable\"><input class=\"sk-toggleable__control sk-hidden--visually\" id=\"sk-estimator-id-1\" type=\"checkbox\" checked><label for=\"sk-estimator-id-1\" class=\"sk-toggleable__label sk-toggleable__label-arrow\">StandardScaler</label><div class=\"sk-toggleable__content\"><pre>StandardScaler()</pre></div></div></div></div></div>"
      ],
      "text/plain": [
       "StandardScaler()"
      ]
     },
     "execution_count": 61,
     "metadata": {},
     "output_type": "execute_result"
    }
   ],
   "source": [
    "sc= StandardScaler()\n",
    "sc.fit(train_x)"
   ]
  },
  {
   "cell_type": "code",
   "execution_count": 62,
   "id": "0f160ca2",
   "metadata": {
    "ExecuteTime": {
     "end_time": "2023-12-24T03:29:06.705526Z",
     "start_time": "2023-12-24T03:29:06.579208Z"
    }
   },
   "outputs": [],
   "source": [
    "train_x_scale=pd.DataFrame(sc.transform(train_x),columns=train_x.columns,index=train_x.index)\n",
    "test_x_scale=pd.DataFrame(sc.transform(test_x),columns=train_x.columns,index=test_x.index)"
   ]
  },
  {
   "cell_type": "code",
   "execution_count": 63,
   "id": "aadd1bf1",
   "metadata": {
    "ExecuteTime": {
     "end_time": "2023-12-24T03:29:06.736826Z",
     "start_time": "2023-12-24T03:29:06.711726Z"
    }
   },
   "outputs": [
    {
     "data": {
      "text/plain": [
       "disbursed_amount                       0\n",
       "asset_cost                             0\n",
       "ltv                                    0\n",
       "employment_type                        0\n",
       "mobileno_avl_flag                      0\n",
       "aadhar_flag                            0\n",
       "pan_flag                               0\n",
       "voterid_flag                           0\n",
       "driving_flag                           0\n",
       "passport_flag                          0\n",
       "perform_cns_score                      0\n",
       "perform_cns_score_description          0\n",
       "new_accts_in_last_six_months           0\n",
       "delinquent_accts_in_last_six_months    0\n",
       "average_acct_age                       0\n",
       "credit_history_length                  0\n",
       "no_of_inquiries                        0\n",
       "age                                    0\n",
       "disbursal_months_passed                0\n",
       "no_of_accts                            0\n",
       "active_accts                           0\n",
       "overdue_accts                          0\n",
       "current_balance                        0\n",
       "sanctioned_amount                      0\n",
       "instal_amt                             0\n",
       "dtype: int64"
      ]
     },
     "execution_count": 63,
     "metadata": {},
     "output_type": "execute_result"
    }
   ],
   "source": [
    "train_x_scale.isna().sum()"
   ]
  },
  {
   "cell_type": "markdown",
   "id": "86946763",
   "metadata": {
    "ExecuteTime": {
     "end_time": "2023-12-22T11:10:42.716362Z",
     "start_time": "2023-12-22T11:10:42.712855Z"
    }
   },
   "source": [
    "### Logistic Regression "
   ]
  },
  {
   "cell_type": "code",
   "execution_count": 64,
   "id": "9bd50a09",
   "metadata": {
    "ExecuteTime": {
     "end_time": "2023-12-24T03:29:08.403964Z",
     "start_time": "2023-12-24T03:29:06.741051Z"
    }
   },
   "outputs": [],
   "source": [
    "logmodel = LogisticRegression() \n",
    "logmodel.fit(train_x_scale,train_y)\n",
    "logpred = logmodel.predict(test_x_scale)"
   ]
  },
  {
   "cell_type": "code",
   "execution_count": 65,
   "id": "fceefa53",
   "metadata": {
    "ExecuteTime": {
     "end_time": "2023-12-24T03:29:08.433508Z",
     "start_time": "2023-12-24T03:29:08.407048Z"
    }
   },
   "outputs": [
    {
     "name": "stdout",
     "output_type": "stream",
     "text": [
      "[[36559    55]\n",
      " [ 9975    42]]\n",
      "78.0\n"
     ]
    }
   ],
   "source": [
    "print(confusion_matrix(test_y, logpred))\n",
    "print(round(accuracy_score(test_y, logpred),2)*100)"
   ]
  },
  {
   "cell_type": "code",
   "execution_count": 66,
   "id": "a64b742c",
   "metadata": {
    "ExecuteTime": {
     "end_time": "2023-12-24T03:29:08.525245Z",
     "start_time": "2023-12-24T03:29:08.435507Z"
    }
   },
   "outputs": [
    {
     "name": "stdout",
     "output_type": "stream",
     "text": [
      "Accuracy: 0.7849070360918702\n",
      "Confusion matrix:\n",
      " [[36559    55]\n",
      " [ 9975    42]]\n",
      "Precision score:\n",
      " 0.4329896907216495\n",
      "recall:\n",
      " 0.0041928721174004195\n",
      "f1 score:\n",
      " 0.008305319359303936\n"
     ]
    }
   ],
   "source": [
    "lr_confusion = confusion_matrix(test_y, logpred)\n",
    "lr_accuracy = accuracy_score(test_y, logpred)\n",
    "lr_f1score = f1_score(test_y, logpred)\n",
    "lr_precision = precision_score(test_y, logpred)\n",
    "lr_recall = recall_score(test_y, logpred)\n",
    "print('Accuracy:', lr_accuracy)\n",
    "print('Confusion matrix:\\n', lr_confusion)\n",
    "print('Precision score:\\n', lr_precision)\n",
    "print('recall:\\n', lr_recall)\n",
    "print('f1 score:\\n',lr_f1score)"
   ]
  },
  {
   "cell_type": "markdown",
   "id": "8cbd7fca",
   "metadata": {
    "ExecuteTime": {
     "end_time": "2023-12-22T12:33:56.955104Z",
     "start_time": "2023-12-22T12:33:56.949752Z"
    }
   },
   "source": [
    "### AdaBoost"
   ]
  },
  {
   "cell_type": "code",
   "execution_count": 67,
   "id": "3f924e74",
   "metadata": {
    "ExecuteTime": {
     "end_time": "2023-12-24T03:29:08.954149Z",
     "start_time": "2023-12-24T03:29:08.528261Z"
    }
   },
   "outputs": [],
   "source": [
    "from sklearn.tree import DecisionTreeClassifier\n",
    "from sklearn.ensemble import AdaBoostClassifier"
   ]
  },
  {
   "cell_type": "code",
   "execution_count": 68,
   "id": "e09e1f49",
   "metadata": {
    "ExecuteTime": {
     "end_time": "2023-12-24T03:29:09.306462Z",
     "start_time": "2023-12-24T03:29:08.956146Z"
    }
   },
   "outputs": [
    {
     "data": {
      "text/html": [
       "<style>#sk-container-id-2 {color: black;background-color: white;}#sk-container-id-2 pre{padding: 0;}#sk-container-id-2 div.sk-toggleable {background-color: white;}#sk-container-id-2 label.sk-toggleable__label {cursor: pointer;display: block;width: 100%;margin-bottom: 0;padding: 0.3em;box-sizing: border-box;text-align: center;}#sk-container-id-2 label.sk-toggleable__label-arrow:before {content: \"▸\";float: left;margin-right: 0.25em;color: #696969;}#sk-container-id-2 label.sk-toggleable__label-arrow:hover:before {color: black;}#sk-container-id-2 div.sk-estimator:hover label.sk-toggleable__label-arrow:before {color: black;}#sk-container-id-2 div.sk-toggleable__content {max-height: 0;max-width: 0;overflow: hidden;text-align: left;background-color: #f0f8ff;}#sk-container-id-2 div.sk-toggleable__content pre {margin: 0.2em;color: black;border-radius: 0.25em;background-color: #f0f8ff;}#sk-container-id-2 input.sk-toggleable__control:checked~div.sk-toggleable__content {max-height: 200px;max-width: 100%;overflow: auto;}#sk-container-id-2 input.sk-toggleable__control:checked~label.sk-toggleable__label-arrow:before {content: \"▾\";}#sk-container-id-2 div.sk-estimator input.sk-toggleable__control:checked~label.sk-toggleable__label {background-color: #d4ebff;}#sk-container-id-2 div.sk-label input.sk-toggleable__control:checked~label.sk-toggleable__label {background-color: #d4ebff;}#sk-container-id-2 input.sk-hidden--visually {border: 0;clip: rect(1px 1px 1px 1px);clip: rect(1px, 1px, 1px, 1px);height: 1px;margin: -1px;overflow: hidden;padding: 0;position: absolute;width: 1px;}#sk-container-id-2 div.sk-estimator {font-family: monospace;background-color: #f0f8ff;border: 1px dotted black;border-radius: 0.25em;box-sizing: border-box;margin-bottom: 0.5em;}#sk-container-id-2 div.sk-estimator:hover {background-color: #d4ebff;}#sk-container-id-2 div.sk-parallel-item::after {content: \"\";width: 100%;border-bottom: 1px solid gray;flex-grow: 1;}#sk-container-id-2 div.sk-label:hover label.sk-toggleable__label {background-color: #d4ebff;}#sk-container-id-2 div.sk-serial::before {content: \"\";position: absolute;border-left: 1px solid gray;box-sizing: border-box;top: 0;bottom: 0;left: 50%;z-index: 0;}#sk-container-id-2 div.sk-serial {display: flex;flex-direction: column;align-items: center;background-color: white;padding-right: 0.2em;padding-left: 0.2em;position: relative;}#sk-container-id-2 div.sk-item {position: relative;z-index: 1;}#sk-container-id-2 div.sk-parallel {display: flex;align-items: stretch;justify-content: center;background-color: white;position: relative;}#sk-container-id-2 div.sk-item::before, #sk-container-id-2 div.sk-parallel-item::before {content: \"\";position: absolute;border-left: 1px solid gray;box-sizing: border-box;top: 0;bottom: 0;left: 50%;z-index: -1;}#sk-container-id-2 div.sk-parallel-item {display: flex;flex-direction: column;z-index: 1;position: relative;background-color: white;}#sk-container-id-2 div.sk-parallel-item:first-child::after {align-self: flex-end;width: 50%;}#sk-container-id-2 div.sk-parallel-item:last-child::after {align-self: flex-start;width: 50%;}#sk-container-id-2 div.sk-parallel-item:only-child::after {width: 0;}#sk-container-id-2 div.sk-dashed-wrapped {border: 1px dashed gray;margin: 0 0.4em 0.5em 0.4em;box-sizing: border-box;padding-bottom: 0.4em;background-color: white;}#sk-container-id-2 div.sk-label label {font-family: monospace;font-weight: bold;display: inline-block;line-height: 1.2em;}#sk-container-id-2 div.sk-label-container {text-align: center;}#sk-container-id-2 div.sk-container {/* jupyter's `normalize.less` sets `[hidden] { display: none; }` but bootstrap.min.css set `[hidden] { display: none !important; }` so we also need the `!important` here to be able to override the default hidden behavior on the sphinx rendered scikit-learn.org. See: https://github.com/scikit-learn/scikit-learn/issues/21755 */display: inline-block !important;position: relative;}#sk-container-id-2 div.sk-text-repr-fallback {display: none;}</style><div id=\"sk-container-id-2\" class=\"sk-top-container\"><div class=\"sk-text-repr-fallback\"><pre>DecisionTreeClassifier(max_depth=1)</pre><b>In a Jupyter environment, please rerun this cell to show the HTML representation or trust the notebook. <br />On GitHub, the HTML representation is unable to render, please try loading this page with nbviewer.org.</b></div><div class=\"sk-container\" hidden><div class=\"sk-item\"><div class=\"sk-estimator sk-toggleable\"><input class=\"sk-toggleable__control sk-hidden--visually\" id=\"sk-estimator-id-2\" type=\"checkbox\" checked><label for=\"sk-estimator-id-2\" class=\"sk-toggleable__label sk-toggleable__label-arrow\">DecisionTreeClassifier</label><div class=\"sk-toggleable__content\"><pre>DecisionTreeClassifier(max_depth=1)</pre></div></div></div></div></div>"
      ],
      "text/plain": [
       "DecisionTreeClassifier(max_depth=1)"
      ]
     },
     "execution_count": 68,
     "metadata": {},
     "output_type": "execute_result"
    }
   ],
   "source": [
    "# Fit a base estimator on the training set\n",
    "base_estimator = DecisionTreeClassifier(max_depth=1)\n",
    "base_estimator.fit(train_x_scale,train_y)"
   ]
  },
  {
   "cell_type": "code",
   "execution_count": 69,
   "id": "076ee980",
   "metadata": {
    "ExecuteTime": {
     "end_time": "2023-12-24T03:29:33.253967Z",
     "start_time": "2023-12-24T03:29:09.309685Z"
    }
   },
   "outputs": [
    {
     "name": "stderr",
     "output_type": "stream",
     "text": [
      "C:\\Users\\anjan\\anaconda3\\Lib\\site-packages\\sklearn\\ensemble\\_base.py:166: FutureWarning: `base_estimator` was renamed to `estimator` in version 1.2 and will be removed in 1.4.\n",
      "  warnings.warn(\n"
     ]
    },
    {
     "name": "stdout",
     "output_type": "stream",
     "text": [
      "Accuracy: 0.7849284810533765\n",
      "Confusion matrix:\n",
      " [[36519    95]\n",
      " [ 9934    83]]\n",
      "Precision score:\n",
      " 0.46629213483146065\n",
      "recall:\n",
      " 0.008285913946291305\n",
      "f1 score:\n",
      " 0.01628249141736145\n"
     ]
    }
   ],
   "source": [
    "# Fit an AdaBoost model on the training set\n",
    "adaboost = AdaBoostClassifier(base_estimator=base_estimator, n_estimators=50, learning_rate=1.0, random_state=42)\n",
    "adaboost.fit(train_x_scale,train_y)\n",
    "# Evaluate the performance of the model on the test set\n",
    "y_pred = adaboost.predict(test_x_scale)\n",
    "ad_accuracy = accuracy_score(test_y, y_pred)\n",
    "ad_confusion = confusion_matrix(test_y, y_pred)\n",
    "ad_precision = precision_score(test_y,y_pred)\n",
    "ad_f1score = f1_score(test_y,y_pred)\n",
    "ad_recall = recall_score(test_y,y_pred)\n",
    "print('Accuracy:', ad_accuracy)\n",
    "print('Confusion matrix:\\n', ad_confusion)\n",
    "print('Precision score:\\n', ad_precision)\n",
    "print('recall:\\n', ad_recall)\n",
    "print('f1 score:\\n',ad_f1score)"
   ]
  },
  {
   "cell_type": "markdown",
   "id": "d093f3aa",
   "metadata": {
    "ExecuteTime": {
     "end_time": "2023-12-22T16:06:55.150191Z",
     "start_time": "2023-12-22T16:06:55.147133Z"
    }
   },
   "source": [
    "### KNN"
   ]
  },
  {
   "cell_type": "code",
   "execution_count": 70,
   "id": "e9f94292",
   "metadata": {
    "ExecuteTime": {
     "end_time": "2023-12-24T03:30:03.350936Z",
     "start_time": "2023-12-24T03:29:33.257963Z"
    }
   },
   "outputs": [
    {
     "name": "stdout",
     "output_type": "stream",
     "text": [
      "Accuracy: 0.7442259441144303\n",
      "Confusion matrix:\n",
      " [[33459  3155]\n",
      " [ 8772  1245]]\n",
      "Precision:\n",
      " 0.28295454545454546\n",
      "recall:\n",
      " 0.12428870919436957\n",
      "f1 score:\n",
      " 0.1727127696469446\n"
     ]
    }
   ],
   "source": [
    "from sklearn.neighbors import KNeighborsClassifier\n",
    "model = KNeighborsClassifier(n_neighbors=5)\n",
    "model.fit(train_x_scale, train_y)\n",
    "y_pred = model.predict(test_x_scale)\n",
    "\n",
    "knn_accuracy = accuracy_score(test_y, y_pred)\n",
    "knn_confusion = confusion_matrix(test_y, y_pred)\n",
    "knn_precision = precision_score(test_y,y_pred)\n",
    "knn_f1_score = f1_score(test_y,y_pred)\n",
    "knn_recall = recall_score(test_y,y_pred)\n",
    "print('Accuracy:', knn_accuracy)\n",
    "print('Confusion matrix:\\n', knn_confusion)\n",
    "print('Precision:\\n', knn_precision)\n",
    "print('recall:\\n', knn_recall)\n",
    "print('f1 score:\\n',knn_f1_score)"
   ]
  },
  {
   "cell_type": "markdown",
   "id": "d98bd3d4",
   "metadata": {
    "ExecuteTime": {
     "end_time": "2023-12-22T16:14:00.637530Z",
     "start_time": "2023-12-22T16:14:00.634286Z"
    }
   },
   "source": [
    "### Naïve Bayes"
   ]
  },
  {
   "cell_type": "code",
   "execution_count": 71,
   "id": "0f821485",
   "metadata": {
    "ExecuteTime": {
     "end_time": "2023-12-24T03:30:03.737851Z",
     "start_time": "2023-12-24T03:30:03.354722Z"
    }
   },
   "outputs": [
    {
     "name": "stdout",
     "output_type": "stream",
     "text": [
      "Accuracy: 0.7742060003002295\n",
      "Confusion matrix:\n",
      " [[35772   842]\n",
      " [ 9687   330]]\n",
      "Precision:\n",
      " 0.2815699658703072\n",
      "recall:\n",
      " 0.03294399520814615\n",
      "f1 score:\n",
      " 0.05898650460273482\n"
     ]
    }
   ],
   "source": [
    "from sklearn.naive_bayes import GaussianNB\n",
    "model = GaussianNB()\n",
    "model.fit(train_x_scale, train_y)\n",
    "y_pred = model.predict(test_x_scale)\n",
    "\n",
    "nb_accuracy = accuracy_score(test_y, y_pred)\n",
    "nb_confusion = confusion_matrix(test_y, y_pred)\n",
    "nb_precision = precision_score(test_y,y_pred)\n",
    "nb_f1_score = f1_score(test_y,y_pred)\n",
    "nb_recall = recall_score(test_y,y_pred)\n",
    "print('Accuracy:', nb_accuracy)\n",
    "print('Confusion matrix:\\n', nb_confusion)\n",
    "print('Precision:\\n', nb_precision)\n",
    "print('recall:\\n', nb_recall)\n",
    "print('f1 score:\\n',nb_f1_score)"
   ]
  },
  {
   "cell_type": "code",
   "execution_count": 72,
   "id": "65cb0b86",
   "metadata": {
    "ExecuteTime": {
     "end_time": "2023-12-24T03:30:03.745544Z",
     "start_time": "2023-12-24T03:30:03.741845Z"
    }
   },
   "outputs": [],
   "source": [
    "### Random Forest"
   ]
  },
  {
   "cell_type": "code",
   "execution_count": 73,
   "id": "77928f42",
   "metadata": {
    "ExecuteTime": {
     "end_time": "2023-12-24T03:30:03.755655Z",
     "start_time": "2023-12-24T03:30:03.748012Z"
    }
   },
   "outputs": [],
   "source": [
    "from sklearn.metrics import roc_curve\n",
    "from sklearn.metrics import roc_auc_score\n",
    "from sklearn.metrics import auc\n",
    "from sklearn.ensemble import RandomForestClassifier"
   ]
  },
  {
   "cell_type": "code",
   "execution_count": 74,
   "id": "8a01f5cf",
   "metadata": {
    "ExecuteTime": {
     "end_time": "2023-12-24T03:30:03.764594Z",
     "start_time": "2023-12-24T03:30:03.758171Z"
    }
   },
   "outputs": [],
   "source": [
    "#model=RandomForestClassifier(n_estimators=300,max_features=0.9,max_depth=30,min_samples_split=3,min_samples_leaf=50, n_jobs=-1)"
   ]
  },
  {
   "cell_type": "code",
   "execution_count": 75,
   "id": "634d31af",
   "metadata": {
    "ExecuteTime": {
     "end_time": "2023-12-24T03:30:03.772782Z",
     "start_time": "2023-12-24T03:30:03.766597Z"
    }
   },
   "outputs": [],
   "source": [
    "#model.fit(train_x_scale, train_y)"
   ]
  },
  {
   "cell_type": "code",
   "execution_count": 76,
   "id": "63babf23",
   "metadata": {
    "ExecuteTime": {
     "end_time": "2023-12-24T03:30:03.780851Z",
     "start_time": "2023-12-24T03:30:03.774780Z"
    }
   },
   "outputs": [],
   "source": [
    "#train_data.shape"
   ]
  },
  {
   "cell_type": "code",
   "execution_count": 77,
   "id": "b1fb165b",
   "metadata": {
    "ExecuteTime": {
     "end_time": "2023-12-24T03:30:03.887587Z",
     "start_time": "2023-12-24T03:30:03.782863Z"
    }
   },
   "outputs": [
    {
     "name": "stdout",
     "output_type": "stream",
     "text": [
      "Accuracy: 0.7742060003002295\n",
      "Confusion matrix:\n",
      " [[35772   842]\n",
      " [ 9687   330]]\n",
      "Precision:\n",
      " 0.2815699658703072\n",
      "recall:\n",
      " 0.03294399520814615\n",
      "f1 score:\n",
      " 0.05898650460273482\n"
     ]
    }
   ],
   "source": [
    "#y_pred = model.predict(test_x_scale)\n",
    "\n",
    "rf_accuracy = accuracy_score(test_y, y_pred)\n",
    "rf_confusion = confusion_matrix(test_y, y_pred)\n",
    "rf_precision = precision_score(test_y,y_pred)\n",
    "rf_f1_score = f1_score(test_y,y_pred)\n",
    "rf_recall = recall_score(test_y,y_pred)\n",
    "print('Accuracy:', rf_accuracy)\n",
    "print('Confusion matrix:\\n', rf_confusion)\n",
    "print('Precision:\\n', rf_precision)\n",
    "print('recall:\\n', rf_recall)\n",
    "print('f1 score:\\n',rf_f1_score)"
   ]
  },
  {
   "cell_type": "code",
   "execution_count": 78,
   "id": "59a2e7f4",
   "metadata": {
    "ExecuteTime": {
     "end_time": "2023-12-24T03:30:03.897566Z",
     "start_time": "2023-12-24T03:30:03.891583Z"
    }
   },
   "outputs": [],
   "source": [
    "model=RandomForestClassifier(n_estimators=300,max_features=0.9,max_depth=30,min_samples_split=3,min_samples_leaf=50, n_jobs=-1)"
   ]
  },
  {
   "cell_type": "code",
   "execution_count": 79,
   "id": "72c655c9",
   "metadata": {
    "ExecuteTime": {
     "end_time": "2023-12-24T03:36:48.030311Z",
     "start_time": "2023-12-24T03:33:27.093859Z"
    }
   },
   "outputs": [
    {
     "data": {
      "text/html": [
       "<style>#sk-container-id-3 {color: black;background-color: white;}#sk-container-id-3 pre{padding: 0;}#sk-container-id-3 div.sk-toggleable {background-color: white;}#sk-container-id-3 label.sk-toggleable__label {cursor: pointer;display: block;width: 100%;margin-bottom: 0;padding: 0.3em;box-sizing: border-box;text-align: center;}#sk-container-id-3 label.sk-toggleable__label-arrow:before {content: \"▸\";float: left;margin-right: 0.25em;color: #696969;}#sk-container-id-3 label.sk-toggleable__label-arrow:hover:before {color: black;}#sk-container-id-3 div.sk-estimator:hover label.sk-toggleable__label-arrow:before {color: black;}#sk-container-id-3 div.sk-toggleable__content {max-height: 0;max-width: 0;overflow: hidden;text-align: left;background-color: #f0f8ff;}#sk-container-id-3 div.sk-toggleable__content pre {margin: 0.2em;color: black;border-radius: 0.25em;background-color: #f0f8ff;}#sk-container-id-3 input.sk-toggleable__control:checked~div.sk-toggleable__content {max-height: 200px;max-width: 100%;overflow: auto;}#sk-container-id-3 input.sk-toggleable__control:checked~label.sk-toggleable__label-arrow:before {content: \"▾\";}#sk-container-id-3 div.sk-estimator input.sk-toggleable__control:checked~label.sk-toggleable__label {background-color: #d4ebff;}#sk-container-id-3 div.sk-label input.sk-toggleable__control:checked~label.sk-toggleable__label {background-color: #d4ebff;}#sk-container-id-3 input.sk-hidden--visually {border: 0;clip: rect(1px 1px 1px 1px);clip: rect(1px, 1px, 1px, 1px);height: 1px;margin: -1px;overflow: hidden;padding: 0;position: absolute;width: 1px;}#sk-container-id-3 div.sk-estimator {font-family: monospace;background-color: #f0f8ff;border: 1px dotted black;border-radius: 0.25em;box-sizing: border-box;margin-bottom: 0.5em;}#sk-container-id-3 div.sk-estimator:hover {background-color: #d4ebff;}#sk-container-id-3 div.sk-parallel-item::after {content: \"\";width: 100%;border-bottom: 1px solid gray;flex-grow: 1;}#sk-container-id-3 div.sk-label:hover label.sk-toggleable__label {background-color: #d4ebff;}#sk-container-id-3 div.sk-serial::before {content: \"\";position: absolute;border-left: 1px solid gray;box-sizing: border-box;top: 0;bottom: 0;left: 50%;z-index: 0;}#sk-container-id-3 div.sk-serial {display: flex;flex-direction: column;align-items: center;background-color: white;padding-right: 0.2em;padding-left: 0.2em;position: relative;}#sk-container-id-3 div.sk-item {position: relative;z-index: 1;}#sk-container-id-3 div.sk-parallel {display: flex;align-items: stretch;justify-content: center;background-color: white;position: relative;}#sk-container-id-3 div.sk-item::before, #sk-container-id-3 div.sk-parallel-item::before {content: \"\";position: absolute;border-left: 1px solid gray;box-sizing: border-box;top: 0;bottom: 0;left: 50%;z-index: -1;}#sk-container-id-3 div.sk-parallel-item {display: flex;flex-direction: column;z-index: 1;position: relative;background-color: white;}#sk-container-id-3 div.sk-parallel-item:first-child::after {align-self: flex-end;width: 50%;}#sk-container-id-3 div.sk-parallel-item:last-child::after {align-self: flex-start;width: 50%;}#sk-container-id-3 div.sk-parallel-item:only-child::after {width: 0;}#sk-container-id-3 div.sk-dashed-wrapped {border: 1px dashed gray;margin: 0 0.4em 0.5em 0.4em;box-sizing: border-box;padding-bottom: 0.4em;background-color: white;}#sk-container-id-3 div.sk-label label {font-family: monospace;font-weight: bold;display: inline-block;line-height: 1.2em;}#sk-container-id-3 div.sk-label-container {text-align: center;}#sk-container-id-3 div.sk-container {/* jupyter's `normalize.less` sets `[hidden] { display: none; }` but bootstrap.min.css set `[hidden] { display: none !important; }` so we also need the `!important` here to be able to override the default hidden behavior on the sphinx rendered scikit-learn.org. See: https://github.com/scikit-learn/scikit-learn/issues/21755 */display: inline-block !important;position: relative;}#sk-container-id-3 div.sk-text-repr-fallback {display: none;}</style><div id=\"sk-container-id-3\" class=\"sk-top-container\"><div class=\"sk-text-repr-fallback\"><pre>RandomForestClassifier(max_depth=30, max_features=0.9, min_samples_leaf=50,\n",
       "                       min_samples_split=3, n_estimators=300, n_jobs=-1)</pre><b>In a Jupyter environment, please rerun this cell to show the HTML representation or trust the notebook. <br />On GitHub, the HTML representation is unable to render, please try loading this page with nbviewer.org.</b></div><div class=\"sk-container\" hidden><div class=\"sk-item\"><div class=\"sk-estimator sk-toggleable\"><input class=\"sk-toggleable__control sk-hidden--visually\" id=\"sk-estimator-id-3\" type=\"checkbox\" checked><label for=\"sk-estimator-id-3\" class=\"sk-toggleable__label sk-toggleable__label-arrow\">RandomForestClassifier</label><div class=\"sk-toggleable__content\"><pre>RandomForestClassifier(max_depth=30, max_features=0.9, min_samples_leaf=50,\n",
       "                       min_samples_split=3, n_estimators=300, n_jobs=-1)</pre></div></div></div></div></div>"
      ],
      "text/plain": [
       "RandomForestClassifier(max_depth=30, max_features=0.9, min_samples_leaf=50,\n",
       "                       min_samples_split=3, n_estimators=300, n_jobs=-1)"
      ]
     },
     "execution_count": 79,
     "metadata": {},
     "output_type": "execute_result"
    }
   ],
   "source": [
    "model.fit(train_x_scale, train_y)"
   ]
  },
  {
   "cell_type": "code",
   "execution_count": 80,
   "id": "2f701cd1",
   "metadata": {
    "ExecuteTime": {
     "end_time": "2023-12-24T04:01:45.164475Z",
     "start_time": "2023-12-24T04:01:44.171089Z"
    }
   },
   "outputs": [],
   "source": [
    "y_pred = model.predict(test_x_scale)"
   ]
  },
  {
   "cell_type": "code",
   "execution_count": 81,
   "id": "75c4108e",
   "metadata": {
    "ExecuteTime": {
     "end_time": "2023-12-24T04:01:47.561503Z",
     "start_time": "2023-12-24T04:01:47.461951Z"
    }
   },
   "outputs": [
    {
     "name": "stdout",
     "output_type": "stream",
     "text": [
      "Accuracy: 0.7854860500525401\n",
      "Confusion matrix:\n",
      " [[36561    53]\n",
      " [ 9950    67]]\n",
      "Precision:\n",
      " 0.5583333333333333\n",
      "recall:\n",
      " 0.006688629330138764\n",
      "f1 score:\n",
      " 0.013218901055539113\n"
     ]
    }
   ],
   "source": [
    "rf_accuracy = accuracy_score(test_y, y_pred)\n",
    "rf_confusion = confusion_matrix(test_y, y_pred)\n",
    "rf_precision = precision_score(test_y,y_pred)\n",
    "rf_f1_score = f1_score(test_y,y_pred)\n",
    "rf_recall = recall_score(test_y,y_pred)\n",
    "print('Accuracy:', rf_accuracy)\n",
    "print('Confusion matrix:\\n', rf_confusion)\n",
    "print('Precision:\\n', rf_precision)\n",
    "print('recall:\\n', rf_recall)\n",
    "print('f1 score:\\n',rf_f1_score)"
   ]
  },
  {
   "cell_type": "code",
   "execution_count": 82,
   "id": "cad3ff70",
   "metadata": {
    "ExecuteTime": {
     "end_time": "2023-12-24T04:01:49.646925Z",
     "start_time": "2023-12-24T04:01:49.637793Z"
    }
   },
   "outputs": [],
   "source": [
    "results_df = pd.DataFrame({\n",
    "    'Model': ['Logistic Regression','RF', 'AdaBoost', 'Naive Bayes', 'KNN'],\n",
    "    'Accuracy': [lr_accuracy,rf_accuracy, ad_accuracy, nb_accuracy, knn_accuracy],\n",
    "    'Precision': [lr_precision , rf_precision, ad_precision , nb_precision, knn_precision],\n",
    "    'Recall': [lr_recall,rf_recall, ad_recall, nb_recall, knn_recall],\n",
    "    'F1 Score': [lr_f1score,rf_f1_score, ad_f1score , nb_f1_score, knn_f1_score]\n",
    "})"
   ]
  },
  {
   "cell_type": "code",
   "execution_count": 83,
   "id": "442dc233",
   "metadata": {
    "ExecuteTime": {
     "end_time": "2023-12-24T04:01:51.420881Z",
     "start_time": "2023-12-24T04:01:51.412077Z"
    }
   },
   "outputs": [
    {
     "name": "stdout",
     "output_type": "stream",
     "text": [
      "The best model is KNN with an F1 score of  0.172713\n"
     ]
    }
   ],
   "source": [
    "best_model = results_df.loc[results_df['F1 Score'].idxmax(), 'Model']\n",
    "print(f\"The best model is {best_model} with an F1 score of {results_df['F1 Score'].max(): 3f}\")"
   ]
  },
  {
   "cell_type": "code",
   "execution_count": null,
   "id": "90061649",
   "metadata": {},
   "outputs": [],
   "source": []
  }
 ],
 "metadata": {
  "kernelspec": {
   "display_name": "Python 3 (ipykernel)",
   "language": "python",
   "name": "python3"
  },
  "language_info": {
   "codemirror_mode": {
    "name": "ipython",
    "version": 3
   },
   "file_extension": ".py",
   "mimetype": "text/x-python",
   "name": "python",
   "nbconvert_exporter": "python",
   "pygments_lexer": "ipython3",
   "version": "3.8.0"
  },
  "toc": {
   "base_numbering": 1,
   "nav_menu": {},
   "number_sections": true,
   "sideBar": true,
   "skip_h1_title": false,
   "title_cell": "Table of Contents",
   "title_sidebar": "Contents",
   "toc_cell": false,
   "toc_position": {},
   "toc_section_display": true,
   "toc_window_display": false
  },
  "varInspector": {
   "cols": {
    "lenName": 16,
    "lenType": 16,
    "lenVar": 40
   },
   "kernels_config": {
    "python": {
     "delete_cmd_postfix": "",
     "delete_cmd_prefix": "del ",
     "library": "var_list.py",
     "varRefreshCmd": "print(var_dic_list())"
    },
    "r": {
     "delete_cmd_postfix": ") ",
     "delete_cmd_prefix": "rm(",
     "library": "var_list.r",
     "varRefreshCmd": "cat(var_dic_list()) "
    }
   },
   "types_to_exclude": [
    "module",
    "function",
    "builtin_function_or_method",
    "instance",
    "_Feature"
   ],
   "window_display": false
  }
 },
 "nbformat": 4,
 "nbformat_minor": 5
}
